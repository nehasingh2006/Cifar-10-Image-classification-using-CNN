{
 "cells": [
  {
   "cell_type": "markdown",
   "metadata": {
    "id": "lnSn9GRwJa7R"
   },
   "source": [
    "## Convolutional Neural Network using CIFAR-10 image dataset\n",
    "\n",
    "#### Problem : \n",
    "Develop a Convolutional Neural Network model by using Keras and tensorflow libraries on CIFAR-10 image dataset \n",
    "\n",
    "#### Dataset information : \n",
    "It consist of 60,000(32x32 pixel) color images(RGB) in 10 class. It has 6000 images in each class and it's distributed as 50,000 images as training dataset and 10,000 images as test dataset. The 10 classes present in datasets are :\n",
    "`0 : airplane` `2 : bird` `3 : cat` `4 : deer` `5 : dog` `6 : frog` `7 : horse` `8 : ship` `9 : trucks`\n",
    "All the images in the dataset are mutually exclusive with respect to each class, means each class will only images associated to that class category.\n",
    "\n",
    "#### Goal : \n",
    "To build a CNN classification model with higher accuracy for CIFAR-10 image dataset."
   ]
  },
  {
   "cell_type": "code",
   "execution_count": null,
   "metadata": {
    "id": "_UEv4JmxJYeK"
   },
   "outputs": [],
   "source": [
    "#Import required libraries\n",
    "import tensorflow as tf\n",
    "from keras.models import Sequential\n",
    "from tensorflow.keras import datasets, models, layers\n",
    "from tensorflow.keras.layers import Dense, Conv2D, Activation, Flatten, MaxPooling2D, Dropout, BatchNormalization\n",
    "from tensorflow.keras.preprocessing.image import ImageDataGenerator\n",
    "from tensorflow.keras.optimizers import RMSprop, SGD, Adam\n",
    "from tensorflow.keras.utils import to_categorical\n",
    "from tensorflow.keras.regularizers import l2\n",
    "\n",
    "import matplotlib.pyplot as plt\n",
    "import numpy as np\n",
    "from sklearn.metrics import classification_report, confusion_matrix\n"
   ]
  },
  {
   "cell_type": "markdown",
   "metadata": {
    "id": "pHA1zgtNRleK"
   },
   "source": [
    "###### Import the dataset from the Keras datasets and it's already divided into training and test dataset. "
   ]
  },
  {
   "cell_type": "code",
   "execution_count": null,
   "metadata": {
    "colab": {
     "base_uri": "https://localhost:8080/"
    },
    "id": "__ROZBaVx9o2",
    "outputId": "4e470d90-56e2-4114-f73d-af792c5ce6a0"
   },
   "outputs": [
    {
     "name": "stdout",
     "output_type": "stream",
     "text": [
      "Downloading data from https://www.cs.toronto.edu/~kriz/cifar-10-python.tar.gz\n",
      "170500096/170498071 [==============================] - 4s 0us/step\n",
      "170508288/170498071 [==============================] - 4s 0us/step\n",
      "Training dataset size: \n",
      "(50000, 32, 32, 3)\n",
      "(50000, 1)\n",
      "Test dataset size: \n",
      "(10000, 32, 32, 3)\n",
      "(10000, 1)\n"
     ]
    }
   ],
   "source": [
    "# Load the dataset\n",
    "(X_train,y_train),(X_test,y_test) = datasets.cifar10.load_data()\n",
    "\n",
    "# Size of training dataset\n",
    "print(\"Training dataset size: \")\n",
    "print(X_train.shape)\n",
    "print(y_train.shape)\n",
    "\n",
    "# Size of test dataset\n",
    "print(\"Test dataset size: \")\n",
    "print(X_test.shape)\n",
    "print(y_test.shape)"
   ]
  },
  {
   "cell_type": "markdown",
   "metadata": {
    "id": "kDJ-JPEEx9o3"
   },
   "source": [
    "###### Since the Dataset has 10 classes and each class can be identified as integers. Lets use one hot encoding for converting the integer into a 10 element vector."
   ]
  },
  {
   "cell_type": "code",
   "execution_count": null,
   "metadata": {
    "colab": {
     "base_uri": "https://localhost:8080/"
    },
    "id": "bwbPSHy9x9o4",
    "outputId": "1cca939a-65bc-441a-d335-0f70dfb0a6c4"
   },
   "outputs": [
    {
     "name": "stdout",
     "output_type": "stream",
     "text": [
      "(10000, 10)\n",
      "(10000, 10)\n"
     ]
    }
   ],
   "source": [
    "#Classes in above dataset\n",
    "nclass = 10\n",
    "classes = [\"airplane\",\"automobile\",\"bird\",\"cat\",\"deer\",\"dog\",\"frog\",\"horse\",\"ship\",\"truck\"]\n",
    "\n",
    "# one hot encoding :\n",
    "y_train = to_categorical(y_train)\n",
    "y_test = to_categorical(y_test)\n",
    "# Target dataset size :\n",
    "print(y_test.shape)\n",
    "print(y_test.shape)"
   ]
  },
  {
   "cell_type": "markdown",
   "metadata": {
    "id": "JYjMhi5jVgGl"
   },
   "source": [
    "###### Lets transform the integer datatype into float32 datatype and normalize the dataset: "
   ]
  },
  {
   "cell_type": "code",
   "execution_count": null,
   "metadata": {
    "id": "uTeto29Bx9o5"
   },
   "outputs": [],
   "source": [
    "# Lets convert from integers to float32 datatype\n",
    "X_train = X_train.astype('float32')\n",
    "X_test = X_test.astype('float32')\n",
    "\n",
    "# Lets perform normalization to range the data between 0-1\n",
    "X_train = X_train / 255\n",
    "X_test = X_test / 255"
   ]
  },
  {
   "cell_type": "code",
   "execution_count": null,
   "metadata": {
    "id": "ccV51VZmH7jY"
   },
   "outputs": [],
   "source": [
    " # Lets split the above training dataset into training and validation dataset\n",
    " X_train_new = X_train[:45000] \n",
    " y_train_new = y_train[:45000] \n",
    " X_valid = X_train[45000:] \n",
    " y_valid = y_train[45000:]"
   ]
  },
  {
   "cell_type": "markdown",
   "metadata": {
    "id": "pH_KxoUDamS7"
   },
   "source": [
    "###### Lets create two functions for plotting accuracy and loss curve to evaluate the performance of the model"
   ]
  },
  {
   "cell_type": "code",
   "execution_count": null,
   "metadata": {
    "id": "6MM9Puh3rJom"
   },
   "outputs": [],
   "source": [
    "# Function to plot the accuracy with respect to model for training and validation dataset\n",
    "def plot_accuracy(history):\n",
    "  plt.plot(history.history['accuracy'], label='Training accuracy')\n",
    "  plt.plot(history.history['val_accuracy'], label='Validation accuracy')\n",
    "  plt.title('Model Accuracy')       \n",
    "  plt.xlabel('No. of Epochs')\n",
    "  plt.ylabel('Accuracy')\n",
    "  plt.legend(loc = 'lower right')\n",
    "  plt.show()"
   ]
  },
  {
   "cell_type": "code",
   "execution_count": null,
   "metadata": {
    "id": "2bSQi-_NrLDo"
   },
   "outputs": [],
   "source": [
    "# Function to plot the loss with respect to model for training and validation dataset\n",
    "def plot_loss(history):  \n",
    "    plt.plot(history.history['loss'], label='Training loss')\n",
    "    plt.plot(history.history['val_loss'], label='Validation loss')\n",
    "    plt.title('Model loss')\n",
    "    plt.xlabel('No. of Epochs')\n",
    "    plt.ylabel('Loss')\n",
    "    plt.legend(loc = 'lower right')\n",
    "    plt.show()"
   ]
  },
  {
   "cell_type": "markdown",
   "metadata": {
    "id": "nnNYCVd8qxsP"
   },
   "source": [
    "`Convolutional Neural Network` has been the best deep neural model for working with image data. CNN consist of convolutional layers & pooling layer. \n",
    "\n",
    "Lets start building CNN model with single layer consisting of 2 convolution layer with 32 and 64 filters respectively of 3*3 size of convolution window and below parameters:\n",
    "- `ReLU` : activation function\n",
    "- `SAME` : padding value, we means outputs will have the same spatial dimensions as it's inputs. \n",
    "- `he_uniform` : kernel_initializer, to intialize random weight of CNN layer. Since we are using ReLU as activation function, he_uniform would be best options to intialize weights from Uniform distribution. This would intialize weights similarly in all the model which will help to compare all the below models.\n",
    "- `input_shape` : (32, 32, 3) as 32*32 pixel color image.\n",
    "\n",
    "followed by :\n",
    "- `MaxPooling2D` layer which takes the maximum value from an input window in 2D spatial data. \n",
    "- `Flatten` layer covert the multi dimentional into single array.\n",
    "- 1 `Dense` layer with ReLU(activation function) as fully connected layer\n",
    "- 1 `Dense` layer with Softmax(activation function) as output layer\n",
    "\n",
    "Compile the model with \n",
    "- `Adam` : optimizer, It's a gradient-based algorithm and it uses the squared gradients to adopt the learning rate.\n",
    "\n",
    "Now, fit this model to our training dataset and run for `25 epochs`.\n",
    "\n",
    "Lets evaluate the model's performance by plotting accuracy and loss curve and compare there error difference."
   ]
  },
  {
   "cell_type": "code",
   "execution_count": null,
   "metadata": {
    "colab": {
     "base_uri": "https://localhost:8080/"
    },
    "id": "g43qx_kU6cCQ",
    "outputId": "f7d2a839-360b-4401-94e8-dace40289725"
   },
   "outputs": [
    {
     "name": "stdout",
     "output_type": "stream",
     "text": [
      "Epoch 1/25\n",
      "633/633 [==============================] - 11s 5ms/step - loss: 1.5777 - accuracy: 0.4634 - val_loss: 1.2043 - val_accuracy: 0.5756\n",
      "Epoch 2/25\n",
      "633/633 [==============================] - 3s 5ms/step - loss: 1.0119 - accuracy: 0.6440 - val_loss: 1.0174 - val_accuracy: 0.6507\n",
      "Epoch 3/25\n",
      "633/633 [==============================] - 3s 5ms/step - loss: 0.8425 - accuracy: 0.7080 - val_loss: 0.9892 - val_accuracy: 0.6567\n",
      "Epoch 4/25\n",
      "633/633 [==============================] - 3s 5ms/step - loss: 0.7188 - accuracy: 0.7502 - val_loss: 0.9559 - val_accuracy: 0.6702\n",
      "Epoch 5/25\n",
      "633/633 [==============================] - 3s 5ms/step - loss: 0.6075 - accuracy: 0.7917 - val_loss: 0.9741 - val_accuracy: 0.6707\n",
      "Epoch 6/25\n",
      "633/633 [==============================] - 3s 5ms/step - loss: 0.5067 - accuracy: 0.8267 - val_loss: 1.0337 - val_accuracy: 0.6642\n",
      "Epoch 7/25\n",
      "633/633 [==============================] - 3s 5ms/step - loss: 0.4069 - accuracy: 0.8598 - val_loss: 1.1701 - val_accuracy: 0.6533\n",
      "Epoch 8/25\n",
      "633/633 [==============================] - 3s 5ms/step - loss: 0.3220 - accuracy: 0.8915 - val_loss: 1.2067 - val_accuracy: 0.6589\n",
      "Epoch 9/25\n",
      "633/633 [==============================] - 3s 5ms/step - loss: 0.2536 - accuracy: 0.9147 - val_loss: 1.3314 - val_accuracy: 0.6571\n",
      "Epoch 10/25\n",
      "633/633 [==============================] - 3s 5ms/step - loss: 0.1976 - accuracy: 0.9349 - val_loss: 1.4806 - val_accuracy: 0.6551\n",
      "Epoch 11/25\n",
      "633/633 [==============================] - 3s 5ms/step - loss: 0.1453 - accuracy: 0.9520 - val_loss: 1.5855 - val_accuracy: 0.6584\n",
      "Epoch 12/25\n",
      "633/633 [==============================] - 3s 5ms/step - loss: 0.1178 - accuracy: 0.9619 - val_loss: 1.7054 - val_accuracy: 0.6513\n",
      "Epoch 13/25\n",
      "633/633 [==============================] - 3s 5ms/step - loss: 0.1122 - accuracy: 0.9630 - val_loss: 1.8372 - val_accuracy: 0.6533\n",
      "Epoch 14/25\n",
      "633/633 [==============================] - 3s 5ms/step - loss: 0.0907 - accuracy: 0.9696 - val_loss: 2.0002 - val_accuracy: 0.6520\n",
      "Epoch 15/25\n",
      "633/633 [==============================] - 3s 5ms/step - loss: 0.0802 - accuracy: 0.9735 - val_loss: 2.1316 - val_accuracy: 0.6567\n",
      "Epoch 16/25\n",
      "633/633 [==============================] - 3s 5ms/step - loss: 0.0753 - accuracy: 0.9751 - val_loss: 2.2209 - val_accuracy: 0.6453\n",
      "Epoch 17/25\n",
      "633/633 [==============================] - 3s 5ms/step - loss: 0.0716 - accuracy: 0.9756 - val_loss: 2.3290 - val_accuracy: 0.6458\n",
      "Epoch 18/25\n",
      "633/633 [==============================] - 3s 5ms/step - loss: 0.0625 - accuracy: 0.9790 - val_loss: 2.4872 - val_accuracy: 0.6507\n",
      "Epoch 19/25\n",
      "633/633 [==============================] - 3s 5ms/step - loss: 0.0565 - accuracy: 0.9805 - val_loss: 2.5011 - val_accuracy: 0.6531\n",
      "Epoch 20/25\n",
      "633/633 [==============================] - 3s 5ms/step - loss: 0.0464 - accuracy: 0.9846 - val_loss: 2.7043 - val_accuracy: 0.6449\n",
      "Epoch 21/25\n",
      "633/633 [==============================] - 3s 5ms/step - loss: 0.0594 - accuracy: 0.9798 - val_loss: 2.7376 - val_accuracy: 0.6498\n",
      "Epoch 22/25\n",
      "633/633 [==============================] - 3s 5ms/step - loss: 0.0504 - accuracy: 0.9829 - val_loss: 2.8527 - val_accuracy: 0.6558\n",
      "Epoch 23/25\n",
      "633/633 [==============================] - 3s 5ms/step - loss: 0.0489 - accuracy: 0.9833 - val_loss: 2.7422 - val_accuracy: 0.6431\n",
      "Epoch 24/25\n",
      "633/633 [==============================] - 3s 5ms/step - loss: 0.0469 - accuracy: 0.9840 - val_loss: 2.8061 - val_accuracy: 0.6451\n",
      "Epoch 25/25\n",
      "633/633 [==============================] - 3s 5ms/step - loss: 0.0504 - accuracy: 0.9828 - val_loss: 2.9707 - val_accuracy: 0.6431\n"
     ]
    }
   ],
   "source": [
    "# Define CNN model\n",
    "cnn = Sequential()\n",
    "\n",
    "cnn.add(Conv2D(filters=32, kernel_size=(3, 3), activation='relu', padding=\"same\", kernel_initializer='he_uniform', input_shape=(32, 32, 3))) # Convolutional layer\n",
    "cnn.add(Conv2D(filters=64, kernel_size=(3, 3), activation='relu', padding=\"same\", kernel_initializer='he_uniform')) # Convolutional layer\n",
    "cnn.add(MaxPooling2D(pool_size=(2, 2))) # pooling layer\n",
    "\n",
    "cnn.add(Flatten()) \n",
    "cnn.add(Dense(128, activation='relu')) # fully connected layer\n",
    "cnn.add(Dense(10, activation='softmax')) # output layer\n",
    "\n",
    "# Compile the CNN model\n",
    "cnn.compile(optimizer='adam',\n",
    "              loss='categorical_crossentropy',\n",
    "              metrics=['accuracy'])\n",
    "\n",
    "# fit the CNN model with 90% as training dataset and 10% as validation dataset\n",
    "history = cnn.fit(X_train_new, y_train_new, batch_size=64, epochs=25, validation_split=0.10)\n"
   ]
  },
  {
   "cell_type": "code",
   "execution_count": null,
   "metadata": {
    "colab": {
     "base_uri": "https://localhost:8080/",
     "height": 295
    },
    "id": "aKszwXc46cUa",
    "outputId": "b8ee9f45-f0cb-49c1-e9be-43bb721dcd89"
   },
   "outputs": [
    {
     "data": {
      "image/png": "[encoded data removed]",
      "text/plain": [
       "<Figure size 432x288 with 1 Axes>"
      ]
     },
     "metadata": {
      "needs_background": "light"
     },
     "output_type": "display_data"
    }
   ],
   "source": [
    "# ploting accuracy for training and validation dataset\n",
    "plot_accuracy(history)"
   ]
  },
  {
   "cell_type": "code",
   "execution_count": null,
   "metadata": {
    "colab": {
     "base_uri": "https://localhost:8080/",
     "height": 295
    },
    "id": "DwZff4ZS6cXS",
    "outputId": "d7a3bd22-fbd9-4dda-93e8-eae6e9318a39"
   },
   "outputs": [
    {
     "data": {
      "image/png": "[encoded data removed]",
      "text/plain": [
       "<Figure size 432x288 with 1 Axes>"
      ]
     },
     "metadata": {
      "needs_background": "light"
     },
     "output_type": "display_data"
    }
   ],
   "source": [
    "# ploting loss for training and validation dataset\n",
    "plot_loss(history)"
   ]
  },
  {
   "cell_type": "code",
   "execution_count": null,
   "metadata": {
    "colab": {
     "base_uri": "https://localhost:8080/"
    },
    "id": "qXfWIDBF6cZ4",
    "outputId": "91eaf2e4-10c9-4811-be4d-6167504566ee"
   },
   "outputs": [
    {
     "name": "stdout",
     "output_type": "stream",
     "text": [
      "['loss', 'accuracy']\n",
      "[2.8996169567108154, 0.6570000052452087]\n"
     ]
    }
   ],
   "source": [
    "# display the accuracy and loss score\n",
    "print(cnn.metrics_names)\n",
    "print(cnn.evaluate(X_valid, y_valid, batch_size=64, verbose= 0))"
   ]
  },
  {
   "cell_type": "markdown",
   "metadata": {
    "id": "TM5yFm-WucVG"
   },
   "source": [
    "According to above accuracy plots, we can notice the large difference between the training & validation accuracy curve  as well as the validation accuracy curve is below the training accuracy curve which means model performance degraded for validation dataset, which means there is a overfittinfg issue. Training accuracy is almost 99% where as the validation acccuracy is almost 66% with a high loss score which is 2.89. \n",
    "\n",
    "###### Lets again use above model with two new parameters:\n",
    "- `eLU` : activation function\n",
    "-`nadam` : optimizer, it's an extension of Adam. \n",
    "Rest of the parameters are same as above model.\n",
    "\n",
    "Now, fit this model to our training dataset and run for `25 epochs`."
   ]
  },
  {
   "cell_type": "code",
   "execution_count": null,
   "metadata": {
    "colab": {
     "base_uri": "https://localhost:8080/"
    },
    "id": "2dLyeU08rPaz",
    "outputId": "6e5ed636-f390-44ad-a64e-a947422faeed"
   },
   "outputs": [
    {
     "name": "stdout",
     "output_type": "stream",
     "text": [
      "Epoch 1/25\n",
      "633/633 [==============================] - 6s 8ms/step - loss: 1.6691 - accuracy: 0.4536 - val_loss: 1.4009 - val_accuracy: 0.5127\n",
      "Epoch 2/25\n",
      "633/633 [==============================] - 4s 6ms/step - loss: 1.1288 - accuracy: 0.6059 - val_loss: 1.1259 - val_accuracy: 0.6007\n",
      "Epoch 3/25\n",
      "633/633 [==============================] - 4s 6ms/step - loss: 0.9199 - accuracy: 0.6791 - val_loss: 1.0760 - val_accuracy: 0.6282\n",
      "Epoch 4/25\n",
      "633/633 [==============================] - 4s 6ms/step - loss: 0.7578 - accuracy: 0.7360 - val_loss: 1.1057 - val_accuracy: 0.6287\n",
      "Epoch 5/25\n",
      "633/633 [==============================] - 4s 6ms/step - loss: 0.6129 - accuracy: 0.7854 - val_loss: 1.1364 - val_accuracy: 0.6362\n",
      "Epoch 6/25\n",
      "633/633 [==============================] - 4s 6ms/step - loss: 0.4849 - accuracy: 0.8311 - val_loss: 1.2271 - val_accuracy: 0.6436\n",
      "Epoch 7/25\n",
      "633/633 [==============================] - 4s 6ms/step - loss: 0.3769 - accuracy: 0.8691 - val_loss: 1.3360 - val_accuracy: 0.6413\n",
      "Epoch 8/25\n",
      "633/633 [==============================] - 4s 6ms/step - loss: 0.2851 - accuracy: 0.8992 - val_loss: 1.5326 - val_accuracy: 0.6393\n",
      "Epoch 9/25\n",
      "633/633 [==============================] - 4s 6ms/step - loss: 0.2379 - accuracy: 0.9188 - val_loss: 1.7336 - val_accuracy: 0.6367\n",
      "Epoch 10/25\n",
      "633/633 [==============================] - 4s 6ms/step - loss: 0.1934 - accuracy: 0.9340 - val_loss: 1.9361 - val_accuracy: 0.6347\n",
      "Epoch 11/25\n",
      "633/633 [==============================] - 4s 6ms/step - loss: 0.1656 - accuracy: 0.9425 - val_loss: 2.0140 - val_accuracy: 0.6380\n",
      "Epoch 12/25\n",
      "633/633 [==============================] - 4s 6ms/step - loss: 0.1418 - accuracy: 0.9517 - val_loss: 2.2470 - val_accuracy: 0.6322\n",
      "Epoch 13/25\n",
      "633/633 [==============================] - 4s 6ms/step - loss: 0.1234 - accuracy: 0.9583 - val_loss: 2.3600 - val_accuracy: 0.6384\n",
      "Epoch 14/25\n",
      "633/633 [==============================] - 4s 6ms/step - loss: 0.1133 - accuracy: 0.9622 - val_loss: 2.5398 - val_accuracy: 0.6309\n",
      "Epoch 15/25\n",
      "633/633 [==============================] - 4s 6ms/step - loss: 0.1078 - accuracy: 0.9651 - val_loss: 2.5979 - val_accuracy: 0.6453\n",
      "Epoch 16/25\n",
      "633/633 [==============================] - 4s 6ms/step - loss: 0.1086 - accuracy: 0.9634 - val_loss: 2.6973 - val_accuracy: 0.6327\n",
      "Epoch 17/25\n",
      "633/633 [==============================] - 4s 6ms/step - loss: 0.0878 - accuracy: 0.9706 - val_loss: 2.8506 - val_accuracy: 0.6396\n",
      "Epoch 18/25\n",
      "633/633 [==============================] - 4s 6ms/step - loss: 0.0853 - accuracy: 0.9706 - val_loss: 3.1279 - val_accuracy: 0.6342\n",
      "Epoch 19/25\n",
      "633/633 [==============================] - 4s 6ms/step - loss: 0.0875 - accuracy: 0.9712 - val_loss: 3.2180 - val_accuracy: 0.6267\n",
      "Epoch 20/25\n",
      "633/633 [==============================] - 4s 6ms/step - loss: 0.0806 - accuracy: 0.9738 - val_loss: 3.2750 - val_accuracy: 0.6340\n",
      "Epoch 21/25\n",
      "633/633 [==============================] - 4s 6ms/step - loss: 0.0722 - accuracy: 0.9760 - val_loss: 3.4366 - val_accuracy: 0.6369\n",
      "Epoch 22/25\n",
      "633/633 [==============================] - 4s 6ms/step - loss: 0.0839 - accuracy: 0.9737 - val_loss: 3.3887 - val_accuracy: 0.6309\n",
      "Epoch 23/25\n",
      "633/633 [==============================] - 4s 6ms/step - loss: 0.0832 - accuracy: 0.9738 - val_loss: 3.5435 - val_accuracy: 0.6249\n",
      "Epoch 24/25\n",
      "633/633 [==============================] - 4s 6ms/step - loss: 0.0579 - accuracy: 0.9812 - val_loss: 3.6868 - val_accuracy: 0.6236\n",
      "Epoch 25/25\n",
      "633/633 [==============================] - 4s 6ms/step - loss: 0.0773 - accuracy: 0.9759 - val_loss: 3.5410 - val_accuracy: 0.6427\n"
     ]
    }
   ],
   "source": [
    "# Define CNN model\n",
    "cnn = Sequential()\n",
    "\n",
    "cnn.add(Conv2D(filters=32, kernel_size=(3, 3), activation='elu', padding=\"same\", kernel_initializer='he_uniform', input_shape=(32, 32, 3))) # Convolutional layer\n",
    "cnn.add(Conv2D(filters=64, kernel_size=(3, 3), activation='elu', padding=\"same\", kernel_initializer='he_uniform')) # Convolutional layer\n",
    "cnn.add(MaxPooling2D(pool_size=(2, 2))) # pooling layer\n",
    "\n",
    "cnn.add(Flatten()) \n",
    "cnn.add(Dense(128, activation='elu')) # fully connected layer\n",
    "cnn.add(Dense(10, activation='softmax')) # output layer\n",
    "\n",
    "# Compile the CNN model\n",
    "cnn.compile(optimizer='nadam',\n",
    "              loss='categorical_crossentropy',\n",
    "              metrics=['accuracy'])\n",
    "\n",
    "# fit the CNN model with 80% as training dataset and 10% as validation dataset\n",
    "history = cnn.fit(X_train_new, y_train_new, batch_size=64, epochs=25, validation_split=0.10)\n"
   ]
  },
  {
   "cell_type": "code",
   "execution_count": null,
   "metadata": {
    "colab": {
     "base_uri": "https://localhost:8080/",
     "height": 295
    },
    "id": "0bxnmRVbrPkf",
    "outputId": "b6fc1ea6-ace0-4add-f07f-866fce7a47b6"
   },
   "outputs": [
    {
     "data": {
      "image/png": "[encoded data removed]",
      "text/plain": [
       "<Figure size 432x288 with 1 Axes>"
      ]
     },
     "metadata": {
      "needs_background": "light"
     },
     "output_type": "display_data"
    }
   ],
   "source": [
    "# ploting accuracy for training and validation dataset\n",
    "plot_accuracy(history)"
   ]
  },
  {
   "cell_type": "code",
   "execution_count": null,
   "metadata": {
    "colab": {
     "base_uri": "https://localhost:8080/",
     "height": 295
    },
    "id": "NkX_0LNVrPn3",
    "outputId": "607ea489-0a81-4206-acec-c2a5b7d6f9c0"
   },
   "outputs": [
    {
     "data": {
      "image/png": "[encoded data removed]",
      "text/plain": [
       "<Figure size 432x288 with 1 Axes>"
      ]
     },
     "metadata": {
      "needs_background": "light"
     },
     "output_type": "display_data"
    }
   ],
   "source": [
    "# ploting loss for training and validation dataset\n",
    "plot_loss(history)"
   ]
  },
  {
   "cell_type": "code",
   "execution_count": null,
   "metadata": {
    "colab": {
     "base_uri": "https://localhost:8080/"
    },
    "id": "lcbI2BBlrPqt",
    "outputId": "c96555bf-6801-451f-f882-ba4ca52ce76b"
   },
   "outputs": [
    {
     "name": "stdout",
     "output_type": "stream",
     "text": [
      "['loss', 'accuracy']\n",
      "[3.5875749588012695, 0.6467999815940857]\n"
     ]
    }
   ],
   "source": [
    "# display the accuracy and loss score\n",
    "print(cnn.metrics_names)\n",
    "print(cnn.evaluate(X_valid, y_valid, batch_size=64, verbose=0))"
   ]
  },
  {
   "cell_type": "markdown",
   "metadata": {
    "id": "x0n1-MrHrzN-"
   },
   "source": [
    "We can notice that after using `elu` as activation function and `nadam` as optimizer, still the model still has overfitting issue. The training accuracy is almost 98% where the validation acccuracy is decreased to almost 64.6% with more high loss score 3.58. \n",
    "\n",
    "###### Lets have 3 layer, each layer consist of 2 convolution layer, one maxpooling layer with 32, 64 and 128 filters in above model with previous model parameters:\n",
    "- `ReLU` : activation function and almost same parameter as above.\n",
    "- `Adam` : deep learning optimizer \n",
    "\n",
    "fit this model to our training dataset and run for `25 epochs`."
   ]
  },
  {
   "cell_type": "code",
   "execution_count": null,
   "metadata": {
    "colab": {
     "base_uri": "https://localhost:8080/"
    },
    "id": "ZKAB9uechrnG",
    "outputId": "a60486ba-7bca-43bb-bdec-81035f5590f3"
   },
   "outputs": [
    {
     "name": "stdout",
     "output_type": "stream",
     "text": [
      "Epoch 1/25\n",
      "633/633 [==============================] - 5s 7ms/step - loss: 1.5015 - accuracy: 0.4554 - val_loss: 1.1523 - val_accuracy: 0.5938\n",
      "Epoch 2/25\n",
      "633/633 [==============================] - 4s 6ms/step - loss: 1.0062 - accuracy: 0.6454 - val_loss: 0.9477 - val_accuracy: 0.6702\n",
      "Epoch 3/25\n",
      "633/633 [==============================] - 4s 6ms/step - loss: 0.7841 - accuracy: 0.7260 - val_loss: 0.9469 - val_accuracy: 0.6716\n",
      "Epoch 4/25\n",
      "633/633 [==============================] - 4s 6ms/step - loss: 0.6348 - accuracy: 0.7785 - val_loss: 0.7468 - val_accuracy: 0.7396\n",
      "Epoch 5/25\n",
      "633/633 [==============================] - 4s 6ms/step - loss: 0.5171 - accuracy: 0.8204 - val_loss: 0.7687 - val_accuracy: 0.7338\n",
      "Epoch 6/25\n",
      "633/633 [==============================] - 4s 6ms/step - loss: 0.4173 - accuracy: 0.8540 - val_loss: 0.7798 - val_accuracy: 0.7469\n",
      "Epoch 7/25\n",
      "633/633 [==============================] - 4s 6ms/step - loss: 0.3292 - accuracy: 0.8844 - val_loss: 0.8772 - val_accuracy: 0.7402\n",
      "Epoch 8/25\n",
      "633/633 [==============================] - 4s 6ms/step - loss: 0.2610 - accuracy: 0.9076 - val_loss: 0.9053 - val_accuracy: 0.7396\n",
      "Epoch 9/25\n",
      "633/633 [==============================] - 4s 6ms/step - loss: 0.2047 - accuracy: 0.9289 - val_loss: 1.0249 - val_accuracy: 0.7449\n",
      "Epoch 10/25\n",
      "633/633 [==============================] - 4s 6ms/step - loss: 0.1764 - accuracy: 0.9386 - val_loss: 1.0369 - val_accuracy: 0.7513\n",
      "Epoch 11/25\n",
      "633/633 [==============================] - 4s 6ms/step - loss: 0.1509 - accuracy: 0.9460 - val_loss: 1.0689 - val_accuracy: 0.7476\n",
      "Epoch 12/25\n",
      "633/633 [==============================] - 4s 6ms/step - loss: 0.1410 - accuracy: 0.9501 - val_loss: 1.1149 - val_accuracy: 0.7476\n",
      "Epoch 13/25\n",
      "633/633 [==============================] - 4s 6ms/step - loss: 0.1288 - accuracy: 0.9540 - val_loss: 1.2653 - val_accuracy: 0.7453\n",
      "Epoch 14/25\n",
      "633/633 [==============================] - 4s 7ms/step - loss: 0.1149 - accuracy: 0.9605 - val_loss: 1.2719 - val_accuracy: 0.7458\n",
      "Epoch 15/25\n",
      "633/633 [==============================] - 4s 7ms/step - loss: 0.1145 - accuracy: 0.9601 - val_loss: 1.3640 - val_accuracy: 0.7598\n",
      "Epoch 16/25\n",
      "633/633 [==============================] - 4s 7ms/step - loss: 0.1072 - accuracy: 0.9639 - val_loss: 1.4429 - val_accuracy: 0.7493\n",
      "Epoch 17/25\n",
      "633/633 [==============================] - 4s 6ms/step - loss: 0.1084 - accuracy: 0.9629 - val_loss: 1.5307 - val_accuracy: 0.7342\n",
      "Epoch 18/25\n",
      "633/633 [==============================] - 4s 6ms/step - loss: 0.0980 - accuracy: 0.9671 - val_loss: 1.4395 - val_accuracy: 0.7431\n",
      "Epoch 19/25\n",
      "633/633 [==============================] - 4s 6ms/step - loss: 0.0924 - accuracy: 0.9686 - val_loss: 1.5483 - val_accuracy: 0.7453\n",
      "Epoch 20/25\n",
      "633/633 [==============================] - 4s 7ms/step - loss: 0.0913 - accuracy: 0.9691 - val_loss: 1.5542 - val_accuracy: 0.7422\n",
      "Epoch 21/25\n",
      "633/633 [==============================] - 4s 6ms/step - loss: 0.0963 - accuracy: 0.9679 - val_loss: 1.6201 - val_accuracy: 0.7336\n",
      "Epoch 22/25\n",
      "633/633 [==============================] - 4s 6ms/step - loss: 0.0874 - accuracy: 0.9706 - val_loss: 1.6110 - val_accuracy: 0.7449\n",
      "Epoch 23/25\n",
      "633/633 [==============================] - 5s 7ms/step - loss: 0.0879 - accuracy: 0.9713 - val_loss: 1.5043 - val_accuracy: 0.7507\n",
      "Epoch 24/25\n",
      "633/633 [==============================] - 4s 7ms/step - loss: 0.0840 - accuracy: 0.9725 - val_loss: 1.6106 - val_accuracy: 0.7327\n",
      "Epoch 25/25\n",
      "633/633 [==============================] - 4s 7ms/step - loss: 0.0776 - accuracy: 0.9740 - val_loss: 1.6661 - val_accuracy: 0.7402\n"
     ]
    }
   ],
   "source": [
    "# Define CNN model\n",
    "cnn = Sequential()\n",
    "\n",
    "cnn.add(Conv2D(filters=32, kernel_size=(3, 3), activation='relu', padding=\"same\", kernel_initializer='he_uniform',input_shape=(32, 32, 3)))\n",
    "cnn.add(Conv2D(filters=32, kernel_size=(3, 3), activation='relu', padding=\"same\", kernel_initializer='he_uniform'))\n",
    "cnn.add(MaxPooling2D(pool_size=(2, 2)))\n",
    "\n",
    "cnn.add(Conv2D(filters=64, kernel_size=(3, 3), activation='relu', padding=\"same\", kernel_initializer='he_uniform'))\n",
    "cnn.add(Conv2D(filters=64, kernel_size=(3, 3), activation='relu', padding=\"same\", kernel_initializer='he_uniform'))\n",
    "cnn.add(MaxPooling2D(pool_size=(2, 2)))\n",
    "\n",
    "cnn.add(Conv2D(filters=128, kernel_size=(3, 3), activation='relu', padding=\"same\", kernel_initializer='he_uniform'))\n",
    "cnn.add(Conv2D(filters=128, kernel_size=(3, 3), activation='relu', padding=\"same\", kernel_initializer='he_uniform'))\n",
    "cnn.add(MaxPooling2D(pool_size=(2, 2)))\n",
    "\n",
    "cnn.add(Flatten())\n",
    "cnn.add(Dense(128, activation='relu'))\n",
    "cnn.add(Dense(10, activation='softmax'))\n",
    "\n",
    "\n",
    "# Compile the CNN model\n",
    "cnn.compile(optimizer='adam',\n",
    "              loss='categorical_crossentropy',\n",
    "              metrics=['accuracy'])\n",
    "\n",
    "# fit the CNN model with 80% as training dataset and 10% as validation dataset\n",
    "history = cnn.fit(X_train_new, y_train_new, batch_size=64, epochs=25, validation_split=0.10)\n"
   ]
  },
  {
   "cell_type": "code",
   "execution_count": null,
   "metadata": {
    "colab": {
     "base_uri": "https://localhost:8080/",
     "height": 295
    },
    "id": "QCROVXqWhrrY",
    "outputId": "db5e8c08-28b4-4360-dc19-c762522441f3"
   },
   "outputs": [
    {
     "data": {
      "image/png": "[encoded data removed]",
      "text/plain": [
       "<Figure size 432x288 with 1 Axes>"
      ]
     },
     "metadata": {
      "needs_background": "light"
     },
     "output_type": "display_data"
    }
   ],
   "source": [
    "# ploting accuracy for training and validation dataset\n",
    "plot_accuracy(history)"
   ]
  },
  {
   "cell_type": "code",
   "execution_count": null,
   "metadata": {
    "colab": {
     "base_uri": "https://localhost:8080/",
     "height": 295
    },
    "id": "nelg7cY4hrut",
    "outputId": "c90a1a1e-f32f-499e-ca26-e7f0a8c2118a"
   },
   "outputs": [
    {
     "data": {
      "image/png": "[encoded data removed]",
      "text/plain": [
       "<Figure size 432x288 with 1 Axes>"
      ]
     },
     "metadata": {
      "needs_background": "light"
     },
     "output_type": "display_data"
    }
   ],
   "source": [
    "# ploting loss for training and validation dataset\n",
    "plot_loss(history)"
   ]
  },
  {
   "cell_type": "code",
   "execution_count": null,
   "metadata": {
    "colab": {
     "base_uri": "https://localhost:8080/"
    },
    "id": "S-0K8qZNhrxu",
    "outputId": "259ded15-9e29-499a-c1ad-975b1038be11"
   },
   "outputs": [
    {
     "name": "stdout",
     "output_type": "stream",
     "text": [
      "['loss', 'accuracy']\n",
      "[1.566510796546936, 0.7594000101089478]\n"
     ]
    }
   ],
   "source": [
    "# display the accuracy and loss score\n",
    "print(cnn.metrics_names)\n",
    "print(cnn.evaluate(X_valid, y_valid, batch_size=64, verbose=0))"
   ]
  },
  {
   "cell_type": "markdown",
   "metadata": {
    "id": "6uXyiQBgsHU9"
   },
   "source": [
    "The performance of model has increased with 3 convolutional layers. Validation accuracy is almost 76% and loss score has also decreased to 1.56 But we can still notice the overfitting issue with this model too. Lets use Regularization to handle overfitting issue by use of L2 regularization and adding weight decay.\n",
    "\n",
    "###### Lets run above model with L2 regularization and with decay value(0.01):\n",
    "- `sgd` : optimizer with `learning_rate` : 0.01 as standard value\n",
    "- `weight decay` : 0.01 as standard value\n",
    "- `regularization`:  L2(0.01)\n",
    "\n",
    "fit this model to our training dataset for `25 epochs`.\n"
   ]
  },
  {
   "cell_type": "code",
   "execution_count": 32,
   "metadata": {
    "colab": {
     "base_uri": "https://localhost:8080/"
    },
    "id": "gJgAel77-RwE",
    "outputId": "e58fd54c-b7f9-4c77-8e59-a74fa834c2f0"
   },
   "outputs": [
    {
     "name": "stdout",
     "output_type": "stream",
     "text": [
      "Epoch 1/25\n",
      "633/633 [==============================] - 5s 7ms/step - loss: 10.4358 - accuracy: 0.3070 - val_loss: 10.0963 - val_accuracy: 0.3524\n",
      "Epoch 2/25\n",
      "633/633 [==============================] - 4s 6ms/step - loss: 9.8790 - accuracy: 0.3970 - val_loss: 9.7528 - val_accuracy: 0.4162\n",
      "Epoch 3/25\n",
      "633/633 [==============================] - 4s 6ms/step - loss: 9.6580 - accuracy: 0.4245 - val_loss: 9.5965 - val_accuracy: 0.4304\n",
      "Epoch 4/25\n",
      "633/633 [==============================] - 4s 7ms/step - loss: 9.5233 - accuracy: 0.4364 - val_loss: 9.4884 - val_accuracy: 0.4351\n",
      "Epoch 5/25\n",
      "633/633 [==============================] - 4s 7ms/step - loss: 9.4247 - accuracy: 0.4457 - val_loss: 9.4104 - val_accuracy: 0.4440\n",
      "Epoch 6/25\n",
      "633/633 [==============================] - 4s 7ms/step - loss: 9.3483 - accuracy: 0.4533 - val_loss: 9.3438 - val_accuracy: 0.4458\n",
      "Epoch 7/25\n",
      "633/633 [==============================] - 4s 6ms/step - loss: 9.2846 - accuracy: 0.4560 - val_loss: 9.2801 - val_accuracy: 0.4600\n",
      "Epoch 8/25\n",
      "633/633 [==============================] - 4s 6ms/step - loss: 9.2307 - accuracy: 0.4641 - val_loss: 9.2324 - val_accuracy: 0.4602\n",
      "Epoch 9/25\n",
      "633/633 [==============================] - 4s 6ms/step - loss: 9.1845 - accuracy: 0.4663 - val_loss: 9.1944 - val_accuracy: 0.4573\n",
      "Epoch 10/25\n",
      "633/633 [==============================] - 4s 6ms/step - loss: 9.1440 - accuracy: 0.4692 - val_loss: 9.1528 - val_accuracy: 0.4662\n",
      "Epoch 11/25\n",
      "633/633 [==============================] - 4s 6ms/step - loss: 9.1078 - accuracy: 0.4711 - val_loss: 9.1230 - val_accuracy: 0.4667\n",
      "Epoch 12/25\n",
      "633/633 [==============================] - 4s 6ms/step - loss: 9.0750 - accuracy: 0.4746 - val_loss: 9.0920 - val_accuracy: 0.4696\n",
      "Epoch 13/25\n",
      "633/633 [==============================] - 4s 6ms/step - loss: 9.0452 - accuracy: 0.4764 - val_loss: 9.0632 - val_accuracy: 0.4720\n",
      "Epoch 14/25\n",
      "633/633 [==============================] - 4s 6ms/step - loss: 9.0175 - accuracy: 0.4781 - val_loss: 9.0357 - val_accuracy: 0.4769\n",
      "Epoch 15/25\n",
      "633/633 [==============================] - 4s 6ms/step - loss: 8.9924 - accuracy: 0.4815 - val_loss: 9.0108 - val_accuracy: 0.4764\n",
      "Epoch 16/25\n",
      "633/633 [==============================] - 4s 6ms/step - loss: 8.9688 - accuracy: 0.4836 - val_loss: 8.9897 - val_accuracy: 0.4760\n",
      "Epoch 17/25\n",
      "633/633 [==============================] - 4s 6ms/step - loss: 8.9471 - accuracy: 0.4841 - val_loss: 8.9698 - val_accuracy: 0.4782\n",
      "Epoch 18/25\n",
      "633/633 [==============================] - 4s 6ms/step - loss: 8.9266 - accuracy: 0.4850 - val_loss: 8.9498 - val_accuracy: 0.4767\n",
      "Epoch 19/25\n",
      "633/633 [==============================] - 4s 6ms/step - loss: 8.9070 - accuracy: 0.4863 - val_loss: 8.9313 - val_accuracy: 0.4762\n",
      "Epoch 20/25\n",
      "633/633 [==============================] - 4s 6ms/step - loss: 8.8891 - accuracy: 0.4889 - val_loss: 8.9176 - val_accuracy: 0.4773\n",
      "Epoch 21/25\n",
      "633/633 [==============================] - 4s 6ms/step - loss: 8.8717 - accuracy: 0.4891 - val_loss: 8.8986 - val_accuracy: 0.4807\n",
      "Epoch 22/25\n",
      "633/633 [==============================] - 4s 6ms/step - loss: 8.8556 - accuracy: 0.4918 - val_loss: 8.8816 - val_accuracy: 0.4798\n",
      "Epoch 23/25\n",
      "633/633 [==============================] - 4s 6ms/step - loss: 8.8397 - accuracy: 0.4920 - val_loss: 8.8700 - val_accuracy: 0.4831\n",
      "Epoch 24/25\n",
      "633/633 [==============================] - 4s 6ms/step - loss: 8.8245 - accuracy: 0.4929 - val_loss: 8.8548 - val_accuracy: 0.4824\n",
      "Epoch 25/25\n",
      "633/633 [==============================] - 4s 6ms/step - loss: 8.8105 - accuracy: 0.4946 - val_loss: 8.8401 - val_accuracy: 0.4844\n"
     ]
    }
   ],
   "source": [
    "# Define CNN model\n",
    "cnn = Sequential()\n",
    "cnn.add(Conv2D(filters=32, kernel_size=(3, 3), activation='relu', kernel_regularizer=l2(0.01), padding=\"same\", kernel_initializer='he_uniform', input_shape=(32, 32, 3)))\n",
    "cnn.add(Conv2D(filters=32, kernel_size=(3, 3), activation='relu', kernel_regularizer=l2(0.01), padding=\"same\", kernel_initializer='he_uniform'))\n",
    "cnn.add(MaxPooling2D(pool_size=(2, 2)))\n",
    "\n",
    "cnn.add(Conv2D(filters=64, kernel_size=(3, 3), activation='relu', kernel_regularizer=l2(0.01), padding=\"same\", kernel_initializer='he_uniform'))\n",
    "cnn.add(Conv2D(filters=64, kernel_size=(3, 3), activation='relu', kernel_regularizer=l2(0.01), padding=\"same\", kernel_initializer='he_uniform'))\n",
    "cnn.add(MaxPooling2D(pool_size=(2, 2)))\n",
    "\n",
    "cnn.add(Conv2D(filters=128, kernel_size=(3, 3), activation='relu', kernel_regularizer=l2(0.01), padding=\"same\", kernel_initializer='he_uniform'))\n",
    "cnn.add(Conv2D(filters=128, kernel_size=(3, 3), activation='relu', kernel_regularizer=l2(0.01), padding=\"same\", kernel_initializer='he_uniform'))\n",
    "cnn.add(MaxPooling2D(pool_size=(2, 2)))\n",
    "\n",
    "cnn.add(Flatten())\n",
    "cnn.add(Dense(128, activation='relu'))\n",
    "cnn.add(Dense(10, activation='softmax'))\n",
    "\n",
    "# Compile the CNN model\n",
    "optimizer = SGD(learning_rate=0.01, decay=0.01)\n",
    "cnn.compile(optimizer=optimizer,\n",
    "              loss='categorical_crossentropy',\n",
    "              metrics=['accuracy'])\n",
    "\n",
    "# fit the CNN model with 80% as training dataset and 10% as validation dataset\n",
    "history = cnn.fit(X_train_new, y_train_new, batch_size=64, epochs=25, validation_split=0.10)\n"
   ]
  },
  {
   "cell_type": "code",
   "execution_count": 33,
   "metadata": {
    "colab": {
     "base_uri": "https://localhost:8080/",
     "height": 295
    },
    "id": "MZiNxapahr36",
    "outputId": "d6c2fc10-11ec-4e9f-9c69-e0ad3dd0f3ad"
   },
   "outputs": [
    {
     "data": {
      "image/png": "[encoded data removed]",
      "text/plain": [
       "<Figure size 432x288 with 1 Axes>"
      ]
     },
     "metadata": {
      "needs_background": "light"
     },
     "output_type": "display_data"
    }
   ],
   "source": [
    "# ploting accuracy for training and validation dataset\n",
    "plot_accuracy(history)"
   ]
  },
  {
   "cell_type": "code",
   "execution_count": 34,
   "metadata": {
    "colab": {
     "base_uri": "https://localhost:8080/",
     "height": 295
    },
    "id": "3BSzCTT4hr6a",
    "outputId": "ed54fd89-867c-45c8-8322-3727a0255f0a"
   },
   "outputs": [
    {
     "data": {
      "image/png": "[encoded data removed]",
      "text/plain": [
       "<Figure size 432x288 with 1 Axes>"
      ]
     },
     "metadata": {
      "needs_background": "light"
     },
     "output_type": "display_data"
    }
   ],
   "source": [
    "# ploting loss for training and validation dataset\n",
    "plot_loss(history)"
   ]
  },
  {
   "cell_type": "code",
   "execution_count": 36,
   "metadata": {
    "colab": {
     "base_uri": "https://localhost:8080/"
    },
    "id": "geK4ZZV0hr9u",
    "outputId": "d5b135c4-38d6-4ac2-a932-665e488ac594"
   },
   "outputs": [
    {
     "name": "stdout",
     "output_type": "stream",
     "text": [
      "['loss', 'accuracy']\n",
      "[8.80850887298584, 0.4896000027656555]\n"
     ]
    }
   ],
   "source": [
    "# display the accuracy and loss score\n",
    "print(cnn.metrics_names)\n",
    "print(cnn.evaluate(X_valid, y_valid, batch_size=64, verbose=0))"
   ]
  },
  {
   "cell_type": "markdown",
   "metadata": {
    "id": "nkuDUX_usT8L"
   },
   "source": [
    "The performance of model has decreased dramitically after applying L2 regularization on cnn layers with weight decay(0.01). But the overfitting issue has been gone but the accuracy for training dataset has been decreased to 49.46% and for validation dataset accuracy has been decreased to almost 49% which is very low with high loss score of 8.808.\n",
    "\n",
    "###### Lets again try to run the above CNN model without L2 regularization and with lower decay value(0.000001):\n",
    "- `sgd` : activation function with `learning_rate` : 0.01\n",
    "- `decay` : 0.000001\n",
    "\n",
    "fit this model to our training dataset and run for `25 epochs`."
   ]
  },
  {
   "cell_type": "code",
   "execution_count": null,
   "metadata": {
    "colab": {
     "base_uri": "https://localhost:8080/"
    },
    "id": "60ZbSfxMFalL",
    "outputId": "ff8aed94-b45b-4c46-b82f-cc54251fdc9e"
   },
   "outputs": [
    {
     "name": "stdout",
     "output_type": "stream",
     "text": [
      "Epoch 1/25\n",
      "633/633 [==============================] - 5s 7ms/step - loss: 1.9422 - accuracy: 0.2941 - val_loss: 1.6912 - val_accuracy: 0.3900\n",
      "Epoch 2/25\n",
      "633/633 [==============================] - 4s 7ms/step - loss: 1.6096 - accuracy: 0.4231 - val_loss: 1.5515 - val_accuracy: 0.4391\n",
      "Epoch 3/25\n",
      "633/633 [==============================] - 4s 7ms/step - loss: 1.4568 - accuracy: 0.4777 - val_loss: 1.5032 - val_accuracy: 0.4624\n",
      "Epoch 4/25\n",
      "633/633 [==============================] - 4s 7ms/step - loss: 1.3611 - accuracy: 0.5132 - val_loss: 1.3840 - val_accuracy: 0.5062\n",
      "Epoch 5/25\n",
      "633/633 [==============================] - 4s 7ms/step - loss: 1.2825 - accuracy: 0.5420 - val_loss: 1.4610 - val_accuracy: 0.4824\n",
      "Epoch 6/25\n",
      "633/633 [==============================] - 4s 7ms/step - loss: 1.2217 - accuracy: 0.5652 - val_loss: 1.2846 - val_accuracy: 0.5349\n",
      "Epoch 7/25\n",
      "633/633 [==============================] - 4s 7ms/step - loss: 1.1615 - accuracy: 0.5858 - val_loss: 1.2905 - val_accuracy: 0.5378\n",
      "Epoch 8/25\n",
      "633/633 [==============================] - 4s 7ms/step - loss: 1.1082 - accuracy: 0.6083 - val_loss: 1.1843 - val_accuracy: 0.5642\n",
      "Epoch 9/25\n",
      "633/633 [==============================] - 4s 7ms/step - loss: 1.0600 - accuracy: 0.6260 - val_loss: 1.2341 - val_accuracy: 0.5642\n",
      "Epoch 10/25\n",
      "633/633 [==============================] - 4s 7ms/step - loss: 1.0075 - accuracy: 0.6440 - val_loss: 1.1220 - val_accuracy: 0.6062\n",
      "Epoch 11/25\n",
      "633/633 [==============================] - 4s 7ms/step - loss: 0.9652 - accuracy: 0.6602 - val_loss: 1.0738 - val_accuracy: 0.6191\n",
      "Epoch 12/25\n",
      "633/633 [==============================] - 4s 7ms/step - loss: 0.9213 - accuracy: 0.6767 - val_loss: 1.0615 - val_accuracy: 0.6278\n",
      "Epoch 13/25\n",
      "633/633 [==============================] - 4s 7ms/step - loss: 0.8843 - accuracy: 0.6898 - val_loss: 1.0329 - val_accuracy: 0.6324\n",
      "Epoch 14/25\n",
      "633/633 [==============================] - 4s 7ms/step - loss: 0.8458 - accuracy: 0.7016 - val_loss: 1.0691 - val_accuracy: 0.6304\n",
      "Epoch 15/25\n",
      "633/633 [==============================] - 4s 7ms/step - loss: 0.8086 - accuracy: 0.7154 - val_loss: 1.1742 - val_accuracy: 0.5940\n",
      "Epoch 16/25\n",
      "633/633 [==============================] - 4s 7ms/step - loss: 0.7774 - accuracy: 0.7258 - val_loss: 0.9798 - val_accuracy: 0.6622\n",
      "Epoch 17/25\n",
      "633/633 [==============================] - 4s 7ms/step - loss: 0.7452 - accuracy: 0.7390 - val_loss: 0.9472 - val_accuracy: 0.6658\n",
      "Epoch 18/25\n",
      "633/633 [==============================] - 4s 7ms/step - loss: 0.7116 - accuracy: 0.7509 - val_loss: 0.9747 - val_accuracy: 0.6613\n",
      "Epoch 19/25\n",
      "633/633 [==============================] - 4s 7ms/step - loss: 0.6842 - accuracy: 0.7598 - val_loss: 0.9376 - val_accuracy: 0.6753\n",
      "Epoch 20/25\n",
      "633/633 [==============================] - 4s 7ms/step - loss: 0.6564 - accuracy: 0.7701 - val_loss: 0.9875 - val_accuracy: 0.6640\n",
      "Epoch 21/25\n",
      "633/633 [==============================] - 4s 7ms/step - loss: 0.6249 - accuracy: 0.7804 - val_loss: 0.9705 - val_accuracy: 0.6767\n",
      "Epoch 22/25\n",
      "633/633 [==============================] - 4s 7ms/step - loss: 0.6036 - accuracy: 0.7881 - val_loss: 1.0001 - val_accuracy: 0.6671\n",
      "Epoch 23/25\n",
      "633/633 [==============================] - 4s 7ms/step - loss: 0.5729 - accuracy: 0.7989 - val_loss: 0.9723 - val_accuracy: 0.6862\n",
      "Epoch 24/25\n",
      "633/633 [==============================] - 4s 7ms/step - loss: 0.5480 - accuracy: 0.8075 - val_loss: 0.9922 - val_accuracy: 0.6756\n",
      "Epoch 25/25\n",
      "633/633 [==============================] - 4s 7ms/step - loss: 0.5241 - accuracy: 0.8155 - val_loss: 0.9873 - val_accuracy: 0.6807\n"
     ]
    }
   ],
   "source": [
    "# Define CNN model\n",
    "cnn = Sequential()\n",
    "\n",
    "cnn.add(Conv2D(filters=32, kernel_size=(3, 3), activation='relu', padding=\"same\", kernel_initializer='he_uniform', input_shape=(32, 32, 3)))\n",
    "cnn.add(Conv2D(filters=32, kernel_size=(3, 3), activation='relu', padding=\"same\", kernel_initializer='he_uniform'))\n",
    "cnn.add(MaxPooling2D(pool_size=(2, 2)))\n",
    "\n",
    "cnn.add(Conv2D(filters=64, kernel_size=(3, 3), activation='relu', padding=\"same\", kernel_initializer='he_uniform'))\n",
    "cnn.add(Conv2D(filters=64, kernel_size=(3, 3), activation='relu', padding=\"same\", kernel_initializer='he_uniform'))\n",
    "cnn.add(MaxPooling2D(pool_size=(2, 2)))\n",
    "\n",
    "cnn.add(Conv2D(filters=32, kernel_size=(3, 3), activation='relu', padding=\"same\", kernel_initializer='he_uniform'))\n",
    "cnn.add(Conv2D(filters=64, kernel_size=(3, 3), activation='relu', padding=\"same\", kernel_initializer='he_uniform'))\n",
    "cnn.add(MaxPooling2D(pool_size=(2, 2)))\n",
    "\n",
    "cnn.add(Flatten())\n",
    "cnn.add(Dense(128, activation='relu'))\n",
    "cnn.add(Dense(10, activation='softmax'))\n",
    "\n",
    "# Compile the CNN model\n",
    "optimizer = SGD(learning_rate=0.01, decay=0.000001)\n",
    "cnn.compile(optimizer=optimizer,\n",
    "              loss='categorical_crossentropy',\n",
    "              metrics=['accuracy'])\n",
    "\n",
    "# fit the CNN model with 80% as training dataset and 10% as validation dataset\n",
    "history = cnn.fit(X_train_new, y_train_new, batch_size=64, epochs=25, validation_split=0.10)\n"
   ]
  },
  {
   "cell_type": "code",
   "execution_count": null,
   "metadata": {
    "colab": {
     "base_uri": "https://localhost:8080/",
     "height": 295
    },
    "id": "oyGQF1czFalL",
    "outputId": "b26d46c6-2e55-43b8-b400-d1043e9f1403"
   },
   "outputs": [
    {
     "data": {
      "image/png": "[encoded data removed]",
      "text/plain": [
       "<Figure size 432x288 with 1 Axes>"
      ]
     },
     "metadata": {
      "needs_background": "light"
     },
     "output_type": "display_data"
    }
   ],
   "source": [
    "# ploting accuracy for training and validation dataset\n",
    "plot_accuracy(history)"
   ]
  },
  {
   "cell_type": "code",
   "execution_count": null,
   "metadata": {
    "colab": {
     "base_uri": "https://localhost:8080/",
     "height": 295
    },
    "id": "U76146aDFalL",
    "outputId": "c3a6abaf-5f70-4ef1-d507-8550a848c222"
   },
   "outputs": [
    {
     "data": {
      "image/png": "[encoded data removed]",
      "text/plain": [
       "<Figure size 432x288 with 1 Axes>"
      ]
     },
     "metadata": {
      "needs_background": "light"
     },
     "output_type": "display_data"
    }
   ],
   "source": [
    "# ploting loss for training and validation dataset\n",
    "plot_loss(history)"
   ]
  },
  {
   "cell_type": "code",
   "execution_count": null,
   "metadata": {
    "colab": {
     "base_uri": "https://localhost:8080/"
    },
    "id": "pYzid-cYFalM",
    "outputId": "67fa8053-1d94-4f3d-900e-5a784c31eac0"
   },
   "outputs": [
    {
     "name": "stdout",
     "output_type": "stream",
     "text": [
      "['loss', 'accuracy']\n",
      "[0.9605057835578918, 0.6976000070571899]\n"
     ]
    }
   ],
   "source": [
    "# display the accuracy and loss score\n",
    "print(cnn.metrics_names)\n",
    "print(cnn.evaluate(X_valid, y_valid, batch_size=64, verbose=0))"
   ]
  },
  {
   "cell_type": "markdown",
   "metadata": {
    "id": "WgGVgj7TFalM"
   },
   "source": [
    "The performance of model has now improved after removing applying L2 regularization on cnn layers. But the overfitting issue has appear again but the accuracy for training dataset has been increased to 81.55% and validation accuracy is almost 70% with low loss score 0.96.\n",
    "\n",
    "Another regularization technique for CNN models is dropout.`Dropout`: It randomly selects neurons which will be dropped out during training. \n",
    "###### Lets add Dropout layer after convolution and hidden layer with probability = 0.25 and RMSprop as Optimizer:\n",
    "- `Dropout` layer with probability = 0.25 \n",
    "- `RMSprop` : Optimizer with decay value(0.000001), It's best combination of SGD & Adam with adaptive learning rate.\n",
    "\n",
    "fit this model to our training dataset and run for `25 epochs`. "
   ]
  },
  {
   "cell_type": "code",
   "execution_count": 37,
   "metadata": {
    "colab": {
     "base_uri": "https://localhost:8080/"
    },
    "id": "DPna0YyoMJJr",
    "outputId": "b8736a7b-3e1a-45d7-acbd-e1f71091f849"
   },
   "outputs": [
    {
     "name": "stdout",
     "output_type": "stream",
     "text": [
      "Epoch 1/25\n",
      "633/633 [==============================] - 6s 7ms/step - loss: 1.7842 - accuracy: 0.3548 - val_loss: 1.4458 - val_accuracy: 0.4689\n",
      "Epoch 2/25\n",
      "633/633 [==============================] - 4s 7ms/step - loss: 1.3273 - accuracy: 0.5264 - val_loss: 1.1111 - val_accuracy: 0.6044\n",
      "Epoch 3/25\n",
      "633/633 [==============================] - 4s 7ms/step - loss: 1.0986 - accuracy: 0.6141 - val_loss: 0.9567 - val_accuracy: 0.6607\n",
      "Epoch 4/25\n",
      "633/633 [==============================] - 4s 7ms/step - loss: 0.9740 - accuracy: 0.6616 - val_loss: 0.8670 - val_accuracy: 0.6936\n",
      "Epoch 5/25\n",
      "633/633 [==============================] - 4s 7ms/step - loss: 0.8859 - accuracy: 0.6918 - val_loss: 0.7961 - val_accuracy: 0.7191\n",
      "Epoch 6/25\n",
      "633/633 [==============================] - 4s 7ms/step - loss: 0.8338 - accuracy: 0.7150 - val_loss: 0.8027 - val_accuracy: 0.7218\n",
      "Epoch 7/25\n",
      "633/633 [==============================] - 4s 7ms/step - loss: 0.7894 - accuracy: 0.7303 - val_loss: 0.7506 - val_accuracy: 0.7424\n",
      "Epoch 8/25\n",
      "633/633 [==============================] - 4s 7ms/step - loss: 0.7676 - accuracy: 0.7377 - val_loss: 0.8303 - val_accuracy: 0.7276\n",
      "Epoch 9/25\n",
      "633/633 [==============================] - 4s 7ms/step - loss: 0.7548 - accuracy: 0.7449 - val_loss: 0.6822 - val_accuracy: 0.7660\n",
      "Epoch 10/25\n",
      "633/633 [==============================] - 4s 7ms/step - loss: 0.7469 - accuracy: 0.7511 - val_loss: 0.8029 - val_accuracy: 0.7349\n",
      "Epoch 11/25\n",
      "633/633 [==============================] - 4s 7ms/step - loss: 0.7287 - accuracy: 0.7581 - val_loss: 0.7888 - val_accuracy: 0.7447\n",
      "Epoch 12/25\n",
      "633/633 [==============================] - 4s 7ms/step - loss: 0.7293 - accuracy: 0.7563 - val_loss: 0.7606 - val_accuracy: 0.7398\n",
      "Epoch 13/25\n",
      "633/633 [==============================] - 4s 7ms/step - loss: 0.7350 - accuracy: 0.7568 - val_loss: 0.8329 - val_accuracy: 0.7180\n",
      "Epoch 14/25\n",
      "633/633 [==============================] - 4s 7ms/step - loss: 0.7315 - accuracy: 0.7587 - val_loss: 0.7171 - val_accuracy: 0.7584\n",
      "Epoch 15/25\n",
      "633/633 [==============================] - 4s 7ms/step - loss: 0.7322 - accuracy: 0.7599 - val_loss: 0.7828 - val_accuracy: 0.7344\n",
      "Epoch 16/25\n",
      "633/633 [==============================] - 4s 7ms/step - loss: 0.7262 - accuracy: 0.7612 - val_loss: 0.7100 - val_accuracy: 0.7651\n",
      "Epoch 17/25\n",
      "633/633 [==============================] - 4s 7ms/step - loss: 0.7297 - accuracy: 0.7580 - val_loss: 0.7011 - val_accuracy: 0.7613\n",
      "Epoch 18/25\n",
      "633/633 [==============================] - 4s 7ms/step - loss: 0.7354 - accuracy: 0.7584 - val_loss: 0.6665 - val_accuracy: 0.7736\n",
      "Epoch 19/25\n",
      "633/633 [==============================] - 4s 7ms/step - loss: 0.7292 - accuracy: 0.7619 - val_loss: 0.7064 - val_accuracy: 0.7691\n",
      "Epoch 20/25\n",
      "633/633 [==============================] - 4s 7ms/step - loss: 0.7396 - accuracy: 0.7598 - val_loss: 0.7988 - val_accuracy: 0.7616\n",
      "Epoch 21/25\n",
      "633/633 [==============================] - 4s 7ms/step - loss: 0.7425 - accuracy: 0.7588 - val_loss: 0.7124 - val_accuracy: 0.7629\n",
      "Epoch 22/25\n",
      "633/633 [==============================] - 4s 7ms/step - loss: 0.7661 - accuracy: 0.7542 - val_loss: 0.6825 - val_accuracy: 0.7689\n",
      "Epoch 23/25\n",
      "633/633 [==============================] - 4s 7ms/step - loss: 0.7534 - accuracy: 0.7570 - val_loss: 0.8270 - val_accuracy: 0.7118\n",
      "Epoch 24/25\n",
      "633/633 [==============================] - 4s 7ms/step - loss: 0.7670 - accuracy: 0.7520 - val_loss: 0.8237 - val_accuracy: 0.7451\n",
      "Epoch 25/25\n",
      "633/633 [==============================] - 4s 7ms/step - loss: 0.7700 - accuracy: 0.7493 - val_loss: 0.6995 - val_accuracy: 0.7653\n"
     ]
    }
   ],
   "source": [
    "# Define CNN model\n",
    "cnn = Sequential()\n",
    "\n",
    "cnn.add(Conv2D(filters=32, kernel_size=(3, 3), activation='relu', padding=\"same\", kernel_initializer='he_uniform', input_shape=(32, 32, 3)))\n",
    "cnn.add(Conv2D(filters=32, kernel_size=(3, 3), activation='relu', padding=\"same\", kernel_initializer='he_uniform'))\n",
    "cnn.add(MaxPooling2D(pool_size=(2, 2)))\n",
    "# Dropout layer \n",
    "cnn.add(Dropout(0.25))\n",
    "\n",
    "cnn.add(Conv2D(filters=64, kernel_size=(3, 3), activation='relu', padding=\"same\", kernel_initializer='he_uniform'))\n",
    "cnn.add(Conv2D(filters=64, kernel_size=(3, 3), activation='relu', padding=\"same\", kernel_initializer='he_uniform'))\n",
    "cnn.add(MaxPooling2D(pool_size=(2, 2)))\n",
    "# Dropout layer \n",
    "cnn.add(Dropout(0.25))\n",
    "\n",
    "cnn.add(Conv2D(filters=128, kernel_size=(3, 3), activation='relu', padding=\"same\", kernel_initializer='he_uniform'))\n",
    "cnn.add(Conv2D(filters=128, kernel_size=(3, 3), activation='relu', padding=\"same\", kernel_initializer='he_uniform'))\n",
    "cnn.add(MaxPooling2D(pool_size=(2, 2)))\n",
    "# Dropout layer \n",
    "cnn.add(Dropout(0.25))\n",
    "\n",
    "cnn.add(Flatten())\n",
    "cnn.add(Dense(128, activation='relu'))\n",
    "# Dropout layer \n",
    "cnn.add(Dropout(0.25))\n",
    "cnn.add(Dense(10, activation='softmax'))\n",
    "\n",
    "# Compile the CNN model\n",
    "optimizer = RMSprop(decay=0.000001)\n",
    "cnn.compile(optimizer=optimizer,\n",
    "              loss='categorical_crossentropy',\n",
    "              metrics=['accuracy'])\n",
    "\n",
    "# fit the CNN model with 80% as training dataset and 10% as validation dataset\n",
    "history = cnn.fit(X_train_new, y_train_new, batch_size=64, epochs=25, validation_split=0.10)\n"
   ]
  },
  {
   "cell_type": "code",
   "execution_count": 38,
   "metadata": {
    "colab": {
     "base_uri": "https://localhost:8080/",
     "height": 295
    },
    "id": "P-h4OuLEUEVr",
    "outputId": "1b6520d8-424a-4c70-f161-2c903acd8342"
   },
   "outputs": [
    {
     "data": {
      "image/png": "[encoded data removed]",
      "text/plain": [
       "<Figure size 432x288 with 1 Axes>"
      ]
     },
     "metadata": {
      "needs_background": "light"
     },
     "output_type": "display_data"
    }
   ],
   "source": [
    "# ploting accuracy for training and validation dataset\n",
    "plot_accuracy(history)"
   ]
  },
  {
   "cell_type": "code",
   "execution_count": 39,
   "metadata": {
    "colab": {
     "base_uri": "https://localhost:8080/",
     "height": 295
    },
    "id": "wsAI_ECJUEeC",
    "outputId": "c3b09b93-2169-4618-f07c-b04f90638252"
   },
   "outputs": [
    {
     "data": {
      "image/png": "[encoded data removed]",
      "text/plain": [
       "<Figure size 432x288 with 1 Axes>"
      ]
     },
     "metadata": {
      "needs_background": "light"
     },
     "output_type": "display_data"
    }
   ],
   "source": [
    "# ploting loss for training and validation dataset\n",
    "plot_loss(history)"
   ]
  },
  {
   "cell_type": "code",
   "execution_count": 40,
   "metadata": {
    "colab": {
     "base_uri": "https://localhost:8080/"
    },
    "id": "08bv2uyJNHxX",
    "outputId": "b4a235e4-aecc-46f3-b87b-96cd0556eb53"
   },
   "outputs": [
    {
     "name": "stdout",
     "output_type": "stream",
     "text": [
      "['loss', 'accuracy']\n",
      "[0.6703301668167114, 0.7788000106811523]\n"
     ]
    }
   ],
   "source": [
    "# display the accuracy and loss score\n",
    "print(cnn.metrics_names)\n",
    "print(cnn.evaluate(X_valid, y_valid, batch_size=64, verbose=0))"
   ]
  },
  {
   "cell_type": "markdown",
   "metadata": {
    "id": "17fU-cGQwZSD"
   },
   "source": [
    "After applying Dropout regularization on layers and using RMSprop as Optimizer, the performance of model has been increased with validation accuracy is almost 78%. The issue of overfitting in model has been vanish with low loss score 0.67.\n",
    "\n",
    "###### Lets again run the above model with `Dropout regularization with varying probability` like 0.25, 0.30, 0.35 & 0.40 for convolution and hidden layer respectively.\n",
    "\n",
    "fit this model to our training dataset and run for `25 epochs`."
   ]
  },
  {
   "cell_type": "code",
   "execution_count": null,
   "metadata": {
    "colab": {
     "base_uri": "https://localhost:8080/"
    },
    "id": "upohIftFVjll",
    "outputId": "40b1398c-1bcb-4854-ece0-f35fcb634067"
   },
   "outputs": [
    {
     "name": "stdout",
     "output_type": "stream",
     "text": [
      "Epoch 1/25\n",
      "633/633 [==============================] - 7s 9ms/step - loss: 1.8683 - accuracy: 0.3079 - val_loss: 1.4740 - val_accuracy: 0.4609\n",
      "Epoch 2/25\n",
      "633/633 [==============================] - 6s 9ms/step - loss: 1.4093 - accuracy: 0.4925 - val_loss: 1.1863 - val_accuracy: 0.5682\n",
      "Epoch 3/25\n",
      "633/633 [==============================] - 6s 9ms/step - loss: 1.1855 - accuracy: 0.5769 - val_loss: 0.9677 - val_accuracy: 0.6600\n",
      "Epoch 4/25\n",
      "633/633 [==============================] - 6s 9ms/step - loss: 1.0382 - accuracy: 0.6350 - val_loss: 0.8983 - val_accuracy: 0.6809\n",
      "Epoch 5/25\n",
      "633/633 [==============================] - 6s 9ms/step - loss: 0.9431 - accuracy: 0.6720 - val_loss: 0.8049 - val_accuracy: 0.7176\n",
      "Epoch 6/25\n",
      "633/633 [==============================] - 6s 9ms/step - loss: 0.8709 - accuracy: 0.6969 - val_loss: 0.7740 - val_accuracy: 0.7256\n",
      "Epoch 7/25\n",
      "633/633 [==============================] - 6s 9ms/step - loss: 0.8247 - accuracy: 0.7165 - val_loss: 0.7539 - val_accuracy: 0.7367\n",
      "Epoch 8/25\n",
      "633/633 [==============================] - 6s 9ms/step - loss: 0.7803 - accuracy: 0.7292 - val_loss: 0.7119 - val_accuracy: 0.7536\n",
      "Epoch 9/25\n",
      "633/633 [==============================] - 6s 9ms/step - loss: 0.7352 - accuracy: 0.7453 - val_loss: 0.6675 - val_accuracy: 0.7640\n",
      "Epoch 10/25\n",
      "633/633 [==============================] - 6s 9ms/step - loss: 0.7035 - accuracy: 0.7551 - val_loss: 0.6976 - val_accuracy: 0.7544\n",
      "Epoch 11/25\n",
      "633/633 [==============================] - 6s 9ms/step - loss: 0.6783 - accuracy: 0.7656 - val_loss: 0.7042 - val_accuracy: 0.7602\n",
      "Epoch 12/25\n",
      "633/633 [==============================] - 6s 9ms/step - loss: 0.6568 - accuracy: 0.7747 - val_loss: 0.6419 - val_accuracy: 0.7811\n",
      "Epoch 13/25\n",
      "633/633 [==============================] - 6s 9ms/step - loss: 0.6300 - accuracy: 0.7845 - val_loss: 0.6851 - val_accuracy: 0.7731\n",
      "Epoch 14/25\n",
      "633/633 [==============================] - 6s 9ms/step - loss: 0.6218 - accuracy: 0.7865 - val_loss: 0.6345 - val_accuracy: 0.7873\n",
      "Epoch 15/25\n",
      "633/633 [==============================] - 6s 9ms/step - loss: 0.6001 - accuracy: 0.7937 - val_loss: 0.6469 - val_accuracy: 0.7856\n",
      "Epoch 16/25\n",
      "633/633 [==============================] - 6s 9ms/step - loss: 0.5796 - accuracy: 0.8010 - val_loss: 0.6303 - val_accuracy: 0.7871\n",
      "Epoch 17/25\n",
      "633/633 [==============================] - 6s 9ms/step - loss: 0.5684 - accuracy: 0.8051 - val_loss: 0.6107 - val_accuracy: 0.7944\n",
      "Epoch 18/25\n",
      "633/633 [==============================] - 6s 9ms/step - loss: 0.5621 - accuracy: 0.8075 - val_loss: 0.5906 - val_accuracy: 0.8013\n",
      "Epoch 19/25\n",
      "633/633 [==============================] - 6s 9ms/step - loss: 0.5509 - accuracy: 0.8113 - val_loss: 0.5929 - val_accuracy: 0.7971\n",
      "Epoch 20/25\n",
      "633/633 [==============================] - 6s 9ms/step - loss: 0.5361 - accuracy: 0.8146 - val_loss: 0.5820 - val_accuracy: 0.8047\n",
      "Epoch 21/25\n",
      "633/633 [==============================] - 6s 9ms/step - loss: 0.5254 - accuracy: 0.8191 - val_loss: 0.6005 - val_accuracy: 0.8058\n",
      "Epoch 22/25\n",
      "633/633 [==============================] - 6s 9ms/step - loss: 0.5194 - accuracy: 0.8224 - val_loss: 0.5849 - val_accuracy: 0.7996\n",
      "Epoch 23/25\n",
      "633/633 [==============================] - 6s 9ms/step - loss: 0.5018 - accuracy: 0.8282 - val_loss: 0.5671 - val_accuracy: 0.8120\n",
      "Epoch 24/25\n",
      "633/633 [==============================] - 6s 9ms/step - loss: 0.5018 - accuracy: 0.8294 - val_loss: 0.5825 - val_accuracy: 0.8122\n",
      "Epoch 25/25\n",
      "633/633 [==============================] - 6s 9ms/step - loss: 0.4945 - accuracy: 0.8313 - val_loss: 0.5782 - val_accuracy: 0.8044\n"
     ]
    }
   ],
   "source": [
    "# Define CNN model\n",
    "cnn = Sequential()\n",
    "\n",
    "cnn.add(Conv2D(filters=32, kernel_size=(3, 3), activation='relu', padding=\"same\", kernel_initializer='he_uniform', input_shape=(32, 32, 3)))\n",
    "cnn.add(Conv2D(filters=64, kernel_size=(3, 3), activation='relu', padding=\"same\", kernel_initializer='he_uniform'))\n",
    "cnn.add(MaxPooling2D(pool_size=(2, 2)))\n",
    "# Dropout layer \n",
    "cnn.add(Dropout(0.25))\n",
    "\n",
    "cnn.add(Conv2D(filters=64, kernel_size=(3, 3), activation='relu', padding=\"same\", kernel_initializer='he_uniform'))\n",
    "cnn.add(Conv2D(filters=64, kernel_size=(3, 3), activation='relu', padding=\"same\", kernel_initializer='he_uniform'))\n",
    "cnn.add(MaxPooling2D(pool_size=(2, 2)))\n",
    "# Dropout layer \n",
    "cnn.add(Dropout(0.30))\n",
    "\n",
    "cnn.add(Conv2D(filters=128, kernel_size=(3, 3), activation='relu', padding=\"same\", kernel_initializer='he_uniform'))\n",
    "cnn.add(Conv2D(filters=128, kernel_size=(3, 3), activation='relu', padding=\"same\", kernel_initializer='he_uniform'))\n",
    "cnn.add(MaxPooling2D(pool_size=(2, 2)))\n",
    "# Dropout layer \n",
    "cnn.add(Dropout(0.35))\n",
    "\n",
    "cnn.add(Flatten())\n",
    "cnn.add(Dense(128, activation='relu'))\n",
    "# Dropout layer added here\n",
    "cnn.add(Dropout(0.40))\n",
    "cnn.add(Dense(10, activation='softmax'))\n",
    "\n",
    "# Compile the CNN model\n",
    "optimizer = RMSprop(decay=0.000001)\n",
    "cnn.compile(optimizer=optimizer,\n",
    "              loss='categorical_crossentropy',\n",
    "              metrics=['accuracy'])\n",
    "\n",
    "# fit the CNN model with 80% as training dataset and 10% as validation dataset\n",
    "history = cnn.fit(X_train_new, y_train_new, batch_size=64, epochs=25, validation_split=0.10)\n"
   ]
  },
  {
   "cell_type": "code",
   "execution_count": null,
   "metadata": {
    "colab": {
     "base_uri": "https://localhost:8080/",
     "height": 295
    },
    "id": "thDPjzoyVjoZ",
    "outputId": "1626d201-0fb0-4900-9894-4050bdff0a93"
   },
   "outputs": [
    {
     "data": {
      "image/png": "[encoded data removed]",
      "text/plain": [
       "<Figure size 432x288 with 1 Axes>"
      ]
     },
     "metadata": {
      "needs_background": "light"
     },
     "output_type": "display_data"
    }
   ],
   "source": [
    "# ploting accuracy for training and validation dataset\n",
    "plot_accuracy(history)"
   ]
  },
  {
   "cell_type": "code",
   "execution_count": null,
   "metadata": {
    "colab": {
     "base_uri": "https://localhost:8080/",
     "height": 295
    },
    "id": "v1Cw5LeOVjrS",
    "outputId": "6c630d58-69df-460d-cc3f-f903e2bc8dd8"
   },
   "outputs": [
    {
     "data": {
      "image/png": "[encoded data removed]",
      "text/plain": [
       "<Figure size 432x288 with 1 Axes>"
      ]
     },
     "metadata": {
      "needs_background": "light"
     },
     "output_type": "display_data"
    }
   ],
   "source": [
    "# ploting loss for training and validation dataset\n",
    "plot_loss(history)"
   ]
  },
  {
   "cell_type": "code",
   "execution_count": null,
   "metadata": {
    "colab": {
     "base_uri": "https://localhost:8080/"
    },
    "id": "b5VYFDCSVjtf",
    "outputId": "96d50b98-c324-4b6d-92e4-87ec34629ecb"
   },
   "outputs": [
    {
     "name": "stdout",
     "output_type": "stream",
     "text": [
      "['loss', 'accuracy']\n",
      "[0.5637370347976685, 0.8136000037193298]\n"
     ]
    }
   ],
   "source": [
    "# display the accuracy and loss score\n",
    "print(cnn.metrics_names)\n",
    "print(cnn.evaluate(X_valid, y_valid, verbose=0))"
   ]
  },
  {
   "cell_type": "markdown",
   "metadata": {
    "id": "rmh-R12LC9bZ"
   },
   "source": [
    "After applying varying Dropout regularization on layers, the performance of model has increased with validation accuracy is almost 81%. There is no issue of overfitting in model with low loss score 0.56.\n",
    "\n",
    "###### Lets add `Batch normalization` layer to above model to accelerates the training process of a model and it will also improve the performance of the model by modest regularization.\n",
    "\n",
    "fit this model to our training dataset and run for `25 epochs`."
   ]
  },
  {
   "cell_type": "code",
   "execution_count": null,
   "metadata": {
    "colab": {
     "base_uri": "https://localhost:8080/"
    },
    "id": "kHyfO_j_VRTv",
    "outputId": "31600886-2db4-41cb-d9e1-8bd580399b28"
   },
   "outputs": [
    {
     "name": "stdout",
     "output_type": "stream",
     "text": [
      "Epoch 1/25\n",
      "633/633 [==============================] - 10s 13ms/step - loss: 1.5197 - accuracy: 0.4787 - val_loss: 1.0599 - val_accuracy: 0.6189\n",
      "Epoch 2/25\n",
      "633/633 [==============================] - 8s 13ms/step - loss: 0.9670 - accuracy: 0.6616 - val_loss: 0.9143 - val_accuracy: 0.6764\n",
      "Epoch 3/25\n",
      "633/633 [==============================] - 8s 13ms/step - loss: 0.7971 - accuracy: 0.7210 - val_loss: 0.7203 - val_accuracy: 0.7462\n",
      "Epoch 4/25\n",
      "633/633 [==============================] - 8s 13ms/step - loss: 0.6975 - accuracy: 0.7555 - val_loss: 0.6478 - val_accuracy: 0.7720\n",
      "Epoch 5/25\n",
      "633/633 [==============================] - 8s 13ms/step - loss: 0.6307 - accuracy: 0.7801 - val_loss: 0.6627 - val_accuracy: 0.7789\n",
      "Epoch 6/25\n",
      "633/633 [==============================] - 8s 13ms/step - loss: 0.5721 - accuracy: 0.8014 - val_loss: 0.6147 - val_accuracy: 0.7913\n",
      "Epoch 7/25\n",
      "633/633 [==============================] - 8s 13ms/step - loss: 0.5311 - accuracy: 0.8161 - val_loss: 0.6192 - val_accuracy: 0.7904\n",
      "Epoch 8/25\n",
      "633/633 [==============================] - 8s 13ms/step - loss: 0.4923 - accuracy: 0.8290 - val_loss: 0.5671 - val_accuracy: 0.8051\n",
      "Epoch 9/25\n",
      "633/633 [==============================] - 8s 13ms/step - loss: 0.4593 - accuracy: 0.8401 - val_loss: 0.5203 - val_accuracy: 0.8251\n",
      "Epoch 10/25\n",
      "633/633 [==============================] - 8s 13ms/step - loss: 0.4317 - accuracy: 0.8513 - val_loss: 0.5199 - val_accuracy: 0.8260\n",
      "Epoch 11/25\n",
      "633/633 [==============================] - 8s 13ms/step - loss: 0.4108 - accuracy: 0.8581 - val_loss: 0.5008 - val_accuracy: 0.8298\n",
      "Epoch 12/25\n",
      "633/633 [==============================] - 8s 13ms/step - loss: 0.3888 - accuracy: 0.8639 - val_loss: 0.4774 - val_accuracy: 0.8384\n",
      "Epoch 13/25\n",
      "633/633 [==============================] - 8s 13ms/step - loss: 0.3726 - accuracy: 0.8695 - val_loss: 0.4970 - val_accuracy: 0.8318\n",
      "Epoch 14/25\n",
      "633/633 [==============================] - 8s 12ms/step - loss: 0.3493 - accuracy: 0.8799 - val_loss: 0.5558 - val_accuracy: 0.8296\n",
      "Epoch 15/25\n",
      "633/633 [==============================] - 8s 12ms/step - loss: 0.3393 - accuracy: 0.8804 - val_loss: 0.5157 - val_accuracy: 0.8324\n",
      "Epoch 16/25\n",
      "633/633 [==============================] - 8s 13ms/step - loss: 0.3227 - accuracy: 0.8885 - val_loss: 0.4874 - val_accuracy: 0.8444\n",
      "Epoch 17/25\n",
      "633/633 [==============================] - 8s 13ms/step - loss: 0.3161 - accuracy: 0.8901 - val_loss: 0.4882 - val_accuracy: 0.8471\n",
      "Epoch 18/25\n",
      "633/633 [==============================] - 8s 13ms/step - loss: 0.3001 - accuracy: 0.8960 - val_loss: 0.4876 - val_accuracy: 0.8436\n",
      "Epoch 19/25\n",
      "633/633 [==============================] - 8s 13ms/step - loss: 0.2885 - accuracy: 0.9012 - val_loss: 0.4944 - val_accuracy: 0.8431\n",
      "Epoch 20/25\n",
      "633/633 [==============================] - 8s 13ms/step - loss: 0.2771 - accuracy: 0.9045 - val_loss: 0.5426 - val_accuracy: 0.8373\n",
      "Epoch 21/25\n",
      "633/633 [==============================] - 8s 13ms/step - loss: 0.2750 - accuracy: 0.9050 - val_loss: 0.5020 - val_accuracy: 0.8458\n",
      "Epoch 22/25\n",
      "633/633 [==============================] - 8s 13ms/step - loss: 0.2672 - accuracy: 0.9061 - val_loss: 0.4661 - val_accuracy: 0.8500\n",
      "Epoch 23/25\n",
      "633/633 [==============================] - 8s 13ms/step - loss: 0.2460 - accuracy: 0.9122 - val_loss: 0.5110 - val_accuracy: 0.8500\n",
      "Epoch 24/25\n",
      "633/633 [==============================] - 8s 13ms/step - loss: 0.2491 - accuracy: 0.9140 - val_loss: 0.5125 - val_accuracy: 0.8509\n",
      "Epoch 25/25\n",
      "633/633 [==============================] - 8s 13ms/step - loss: 0.2414 - accuracy: 0.9164 - val_loss: 0.5186 - val_accuracy: 0.8473\n"
     ]
    }
   ],
   "source": [
    "# Define CNN model\n",
    "cnn = Sequential()\n",
    "\n",
    "cnn.add(Conv2D(filters=32, kernel_size=(3, 3), activation='relu', padding=\"same\", kernel_initializer='he_uniform', input_shape=(32, 32, 3)))\n",
    "# Batch Normalization layer\n",
    "cnn.add(BatchNormalization())\n",
    "cnn.add(Conv2D(filters=64, kernel_size=(3, 3), activation='relu', padding=\"same\", kernel_initializer='he_uniform'))\n",
    "# Batch Normalization layer\n",
    "cnn.add(BatchNormalization())\n",
    "cnn.add(MaxPooling2D(pool_size=(2, 2)))\n",
    "# Dropout layer\n",
    "cnn.add(Dropout(0.25))\n",
    "\n",
    "cnn.add(Conv2D(filters=64, kernel_size=(3, 3), activation='relu', padding=\"same\", kernel_initializer='he_uniform'))\n",
    "# Batch Normalization layer\n",
    "cnn.add(BatchNormalization())\n",
    "cnn.add(Conv2D(filters=64, kernel_size=(3, 3), activation='relu', padding=\"same\", kernel_initializer='he_uniform'))\n",
    "# Batch Normalization layer\n",
    "cnn.add(BatchNormalization())\n",
    "cnn.add(MaxPooling2D(pool_size=(2, 2)))\n",
    "# Dropout layer\n",
    "cnn.add(Dropout(0.30))\n",
    "\n",
    "cnn.add(Conv2D(filters=128, kernel_size=(3, 3), activation='relu', padding=\"same\", kernel_initializer='he_uniform'))\n",
    "# Batch Normalization layer\n",
    "cnn.add(BatchNormalization())\n",
    "cnn.add(Conv2D(filters=128, kernel_size=(3, 3), activation='relu', padding=\"same\", kernel_initializer='he_uniform'))\n",
    "# Batch Normalization layer\n",
    "cnn.add(BatchNormalization())\n",
    "cnn.add(MaxPooling2D(pool_size=(2, 2)))\n",
    "# Dropout layer \n",
    "cnn.add(Dropout(0.35))\n",
    "\n",
    "cnn.add(Flatten())\n",
    "cnn.add(Dense(128, activation='relu'))\n",
    "# Batch Normalization layer\n",
    "cnn.add(BatchNormalization())\n",
    "# Dropout layer \n",
    "cnn.add(Dropout(0.35))\n",
    "cnn.add(Dense(10, activation='softmax'))\n",
    "\n",
    "# Compile the CNN model\n",
    "optimizer = RMSprop(decay=0.000001)\n",
    "cnn.compile(optimizer=optimizer,\n",
    "              loss='categorical_crossentropy',\n",
    "              metrics=['accuracy'])\n",
    "\n",
    "# fit the CNN model with 80% as training dataset and 10% as validation dataset\n",
    "history = cnn.fit(X_train_new, y_train_new, batch_size=64, epochs=25, validation_split=0.10)\n"
   ]
  },
  {
   "cell_type": "code",
   "execution_count": null,
   "metadata": {
    "colab": {
     "base_uri": "https://localhost:8080/",
     "height": 295
    },
    "id": "u_g9TzzQXU_P",
    "outputId": "d06caf27-42c3-4444-f14f-e49a239e9315"
   },
   "outputs": [
    {
     "data": {
      "image/png": "[encoded data removed]",
      "text/plain": [
       "<Figure size 432x288 with 1 Axes>"
      ]
     },
     "metadata": {
      "needs_background": "light"
     },
     "output_type": "display_data"
    }
   ],
   "source": [
    "# ploting accuracy for training and validation dataset\n",
    "plot_accuracy(history)"
   ]
  },
  {
   "cell_type": "code",
   "execution_count": null,
   "metadata": {
    "colab": {
     "base_uri": "https://localhost:8080/",
     "height": 295
    },
    "id": "LtfSEO72XXKW",
    "outputId": "b77e0e67-9dfa-409b-d4c8-1c2c3e76edec"
   },
   "outputs": [
    {
     "data": {
      "image/png": "[encoded data removed]",
      "text/plain": [
       "<Figure size 432x288 with 1 Axes>"
      ]
     },
     "metadata": {
      "needs_background": "light"
     },
     "output_type": "display_data"
    }
   ],
   "source": [
    "# ploting loss for training and validation dataset\n",
    "plot_loss(history)"
   ]
  },
  {
   "cell_type": "code",
   "execution_count": null,
   "metadata": {
    "colab": {
     "base_uri": "https://localhost:8080/"
    },
    "id": "F_9Ud7R3XOVc",
    "outputId": "aa8465f5-212b-4586-ea83-ab0260932c3a"
   },
   "outputs": [
    {
     "name": "stdout",
     "output_type": "stream",
     "text": [
      "['loss', 'accuracy']\n",
      "79/79 [==============================] - 0s 5ms/step - loss: 0.5137 - accuracy: 0.8572\n",
      "[0.5137364268302917, 0.857200026512146]\n"
     ]
    }
   ],
   "source": [
    "# display the accuracy and loss score\n",
    "print(cnn.metrics_names)\n",
    "print(cnn.evaluate(X_valid, y_valid, batch_size=64))"
   ]
  },
  {
   "cell_type": "markdown",
   "metadata": {
    "id": "X7MJwe2cYren"
   },
   "source": [
    "After applying Batch normalization on layers, the performance of model has increased with validation accuracy is almost 86%.  But there is slight issue of overfitting in model with low loss score 0.51 .\n",
    "\n",
    "`Data Augmentation` : It's generate new training samples from the original dataset by generating modified versions of images. This will expand the training dataset which inturn will improve the performance of model and also handle the overfitting issue. \n",
    "\n",
    "###### Lets add Data Augmentation  to above model with rest all same parameters\n",
    "\n",
    "fit this model to our training dataset and run for `25 epochs`."
   ]
  },
  {
   "cell_type": "code",
   "execution_count": null,
   "metadata": {
    "colab": {
     "base_uri": "https://localhost:8080/"
    },
    "id": "9zJbNGXUXbeF",
    "outputId": "64c2babb-9849-442b-fa3a-2836da5ce03a"
   },
   "outputs": [
    {
     "name": "stdout",
     "output_type": "stream",
     "text": [
      "Epoch 1/25\n",
      "703/703 [==============================] - 31s 30ms/step - loss: 1.6904 - accuracy: 0.4078 - val_loss: 1.2407 - val_accuracy: 0.5612\n",
      "Epoch 2/25\n",
      "703/703 [==============================] - 21s 29ms/step - loss: 1.1974 - accuracy: 0.5717 - val_loss: 0.9784 - val_accuracy: 0.6574\n",
      "Epoch 3/25\n",
      "703/703 [==============================] - 21s 29ms/step - loss: 1.0220 - accuracy: 0.6404 - val_loss: 0.9287 - val_accuracy: 0.6820\n",
      "Epoch 4/25\n",
      "703/703 [==============================] - 21s 30ms/step - loss: 0.9379 - accuracy: 0.6720 - val_loss: 0.7449 - val_accuracy: 0.7412\n",
      "Epoch 5/25\n",
      "703/703 [==============================] - 21s 30ms/step - loss: 0.8613 - accuracy: 0.6977 - val_loss: 0.8804 - val_accuracy: 0.7152\n",
      "Epoch 6/25\n",
      "703/703 [==============================] - 21s 30ms/step - loss: 0.8220 - accuracy: 0.7140 - val_loss: 0.6887 - val_accuracy: 0.7686\n",
      "Epoch 7/25\n",
      "703/703 [==============================] - 21s 30ms/step - loss: 0.7848 - accuracy: 0.7285 - val_loss: 0.6782 - val_accuracy: 0.7656\n",
      "Epoch 8/25\n",
      "703/703 [==============================] - 21s 30ms/step - loss: 0.7502 - accuracy: 0.7414 - val_loss: 0.7591 - val_accuracy: 0.7500\n",
      "Epoch 9/25\n",
      "703/703 [==============================] - 21s 30ms/step - loss: 0.7281 - accuracy: 0.7490 - val_loss: 0.6482 - val_accuracy: 0.7874\n",
      "Epoch 10/25\n",
      "703/703 [==============================] - 21s 30ms/step - loss: 0.7028 - accuracy: 0.7574 - val_loss: 0.5586 - val_accuracy: 0.8118\n",
      "Epoch 11/25\n",
      "703/703 [==============================] - 21s 30ms/step - loss: 0.6809 - accuracy: 0.7666 - val_loss: 0.6214 - val_accuracy: 0.7952\n",
      "Epoch 12/25\n",
      "703/703 [==============================] - 21s 30ms/step - loss: 0.6661 - accuracy: 0.7712 - val_loss: 0.6134 - val_accuracy: 0.7976\n",
      "Epoch 13/25\n",
      "703/703 [==============================] - 21s 30ms/step - loss: 0.6503 - accuracy: 0.7796 - val_loss: 0.6768 - val_accuracy: 0.7854\n",
      "Epoch 14/25\n",
      "703/703 [==============================] - 21s 30ms/step - loss: 0.6390 - accuracy: 0.7821 - val_loss: 0.4802 - val_accuracy: 0.8408\n",
      "Epoch 15/25\n",
      "703/703 [==============================] - 21s 30ms/step - loss: 0.6288 - accuracy: 0.7849 - val_loss: 0.5157 - val_accuracy: 0.8274\n",
      "Epoch 16/25\n",
      "703/703 [==============================] - 21s 30ms/step - loss: 0.6152 - accuracy: 0.7893 - val_loss: 0.6019 - val_accuracy: 0.8080\n",
      "Epoch 17/25\n",
      "703/703 [==============================] - 21s 30ms/step - loss: 0.6113 - accuracy: 0.7924 - val_loss: 0.5237 - val_accuracy: 0.8248\n",
      "Epoch 18/25\n",
      "703/703 [==============================] - 21s 30ms/step - loss: 0.5963 - accuracy: 0.7967 - val_loss: 0.5859 - val_accuracy: 0.8144\n",
      "Epoch 19/25\n",
      "703/703 [==============================] - 21s 29ms/step - loss: 0.5852 - accuracy: 0.7986 - val_loss: 0.5415 - val_accuracy: 0.8244\n",
      "Epoch 20/25\n",
      "703/703 [==============================] - 21s 30ms/step - loss: 0.5776 - accuracy: 0.8041 - val_loss: 0.6293 - val_accuracy: 0.8066\n",
      "Epoch 21/25\n",
      "703/703 [==============================] - 21s 30ms/step - loss: 0.5765 - accuracy: 0.8042 - val_loss: 0.5208 - val_accuracy: 0.8292\n",
      "Epoch 22/25\n",
      "703/703 [==============================] - 21s 31ms/step - loss: 0.5561 - accuracy: 0.8104 - val_loss: 0.6645 - val_accuracy: 0.7926\n",
      "Epoch 23/25\n",
      "703/703 [==============================] - 21s 30ms/step - loss: 0.5609 - accuracy: 0.8081 - val_loss: 0.5686 - val_accuracy: 0.8230\n",
      "Epoch 24/25\n",
      "703/703 [==============================] - 21s 29ms/step - loss: 0.5526 - accuracy: 0.8094 - val_loss: 0.5103 - val_accuracy: 0.8300\n",
      "Epoch 25/25\n",
      "703/703 [==============================] - 21s 29ms/step - loss: 0.5417 - accuracy: 0.8140 - val_loss: 0.5204 - val_accuracy: 0.8316\n"
     ]
    }
   ],
   "source": [
    "# Define CNN model\n",
    "cnn = Sequential()\n",
    "\n",
    "cnn.add(Conv2D(filters=32, kernel_size=(3, 3), activation='relu', padding=\"same\", kernel_initializer='he_uniform', input_shape=(32, 32, 3)))\n",
    "# Batch Normalization layer\n",
    "cnn.add(BatchNormalization())\n",
    "cnn.add(Conv2D(filters=32, kernel_size=(3, 3), activation='relu', padding=\"same\", kernel_initializer='he_uniform'))\n",
    "# Batch Normalization layer\n",
    "cnn.add(BatchNormalization())\n",
    "cnn.add(MaxPooling2D(pool_size=(2, 2)))\n",
    "# Dropout layer \n",
    "cnn.add(Dropout(0.25))\n",
    "\n",
    "cnn.add(Conv2D(filters=64, kernel_size=(3, 3), activation='relu', padding=\"same\", kernel_initializer='he_uniform'))\n",
    "# Batch Normalization layer\n",
    "cnn.add(BatchNormalization())\n",
    "cnn.add(Conv2D(filters=64, kernel_size=(3, 3), activation='relu', padding=\"same\", kernel_initializer='he_uniform'))\n",
    "# Batch Normalization layer\n",
    "cnn.add(BatchNormalization())\n",
    "cnn.add(MaxPooling2D(pool_size=(2, 2)))\n",
    "# Dropout layer \n",
    "cnn.add(Dropout(0.30))\n",
    "\n",
    "cnn.add(Conv2D(filters=128, kernel_size=(3, 3), activation='relu', padding=\"same\", kernel_initializer='he_uniform'))\n",
    "# Batch Normalization layer\n",
    "cnn.add(BatchNormalization())\n",
    "cnn.add(Conv2D(filters=128, kernel_size=(3, 3), activation='relu', padding=\"same\", kernel_initializer='he_uniform'))\n",
    "# Batch Normalization layer\n",
    "cnn.add(BatchNormalization())\n",
    "cnn.add(MaxPooling2D(pool_size=(2, 2)))\n",
    "# Dropout layer \n",
    "cnn.add(Dropout(0.35))\n",
    "\n",
    "cnn.add(Flatten())\n",
    "cnn.add(Dense(128, activation='relu'))\n",
    "# Batch Normalization layer\n",
    "cnn.add(BatchNormalization())\n",
    "# Dropout layer added here\n",
    "cnn.add(Dropout(0.40))\n",
    "cnn.add(Dense(10, activation='softmax'))\n",
    "\n",
    "#Lets define data generator \n",
    "data_gen = ImageDataGenerator(\n",
    "    width_shift_range=0.1,\n",
    "    height_shift_range=0.1,\n",
    "    rotation_range= 20,\n",
    "    horizontal_flip=True,\n",
    "    )\n",
    "\n",
    "# Compile the CNN model\n",
    "optimizer = RMSprop(decay=0.000001)\n",
    "cnn.compile(optimizer=optimizer,\n",
    "              loss='categorical_crossentropy',\n",
    "              metrics=['accuracy'])\n",
    "\n",
    "# Expand the training dataset with iterator\n",
    "itrain = data_gen.flow(X_train_new, y_train_new, batch_size=64)\n",
    "nstep = int(X_train_new.shape[0] / 64)\n",
    "\n",
    "# fit the CNN model with expanded training dataset\n",
    "history = cnn.fit(itrain, \n",
    "                  steps_per_epoch=nstep, \n",
    "                  batch_size=64, \n",
    "                  epochs=25, \n",
    "                  validation_data=(X_valid, y_valid))\n"
   ]
  },
  {
   "cell_type": "code",
   "execution_count": null,
   "metadata": {
    "colab": {
     "base_uri": "https://localhost:8080/",
     "height": 295
    },
    "id": "5gk0p6Dwb_ux",
    "outputId": "c2f99a21-a831-4255-f125-add70e137170"
   },
   "outputs": [
    {
     "data": {
      "image/png": "[encoded data removed]",
      "text/plain": [
       "<Figure size 432x288 with 1 Axes>"
      ]
     },
     "metadata": {
      "needs_background": "light"
     },
     "output_type": "display_data"
    }
   ],
   "source": [
    "# ploting accuracy for training and validation dataset\n",
    "plot_accuracy(history)"
   ]
  },
  {
   "cell_type": "code",
   "execution_count": null,
   "metadata": {
    "colab": {
     "base_uri": "https://localhost:8080/",
     "height": 295
    },
    "id": "kO6zam5db_y5",
    "outputId": "3d4dea9b-c2c9-4b42-ee84-9f15c74ee749"
   },
   "outputs": [
    {
     "data": {
      "image/png": "[encoded data removed]",
      "text/plain": [
       "<Figure size 432x288 with 1 Axes>"
      ]
     },
     "metadata": {
      "needs_background": "light"
     },
     "output_type": "display_data"
    }
   ],
   "source": [
    "# ploting loss for training and validation dataset\n",
    "plot_loss(history)"
   ]
  },
  {
   "cell_type": "code",
   "execution_count": null,
   "metadata": {
    "colab": {
     "base_uri": "https://localhost:8080/"
    },
    "id": "wlJdJHUjNMX4",
    "outputId": "6a5157a8-fb5f-49e5-e850-223ec3f54528"
   },
   "outputs": [
    {
     "name": "stdout",
     "output_type": "stream",
     "text": [
      "['loss', 'accuracy']\n",
      "[0.5203595161437988, 0.83160001039505]\n"
     ]
    }
   ],
   "source": [
    "# display the accuracy and loss score\n",
    "print(cnn.metrics_names)\n",
    "print(cnn.evaluate(X_valid, y_valid, batch_size=64, verbose=0))"
   ]
  },
  {
   "cell_type": "markdown",
   "metadata": {
    "id": "olWFX_8QchAM"
   },
   "source": [
    "After applying Data Augmentation on layers, the performance of model is good with validation accuracy is 83% with low loss difference is 0.52. The issue of overfitting in model has been also handled very well. Hence this model has the best accuracy till now with no overfitting issue and have very good performance.\n",
    "\n",
    "###### Lets run and evaluate above CNN model for test dataset and run for `200 epochs`  for more better performance:\n"
   ]
  },
  {
   "cell_type": "code",
   "execution_count": null,
   "metadata": {
    "colab": {
     "base_uri": "https://localhost:8080/"
    },
    "id": "s1-5vIaLbRTA",
    "outputId": "cacb8431-825b-4a28-9793-32910e4a2813"
   },
   "outputs": [
    {
     "name": "stdout",
     "output_type": "stream",
     "text": [
      "Model: \"sequential\"\n",
      "_________________________________________________________________\n",
      " Layer (type)                Output Shape              Param #   \n",
      "=================================================================\n",
      " conv2d (Conv2D)             (None, 32, 32, 32)        896       \n",
      "                                                                 \n",
      " batch_normalization (BatchN  (None, 32, 32, 32)       128       \n",
      " ormalization)                                                   \n",
      "                                                                 \n",
      " conv2d_1 (Conv2D)           (None, 32, 32, 32)        9248      \n",
      "                                                                 \n",
      " batch_normalization_1 (Batc  (None, 32, 32, 32)       128       \n",
      " hNormalization)                                                 \n",
      "                                                                 \n",
      " max_pooling2d (MaxPooling2D  (None, 16, 16, 32)       0         \n",
      " )                                                               \n",
      "                                                                 \n",
      " dropout (Dropout)           (None, 16, 16, 32)        0         \n",
      "                                                                 \n",
      " conv2d_2 (Conv2D)           (None, 16, 16, 64)        18496     \n",
      "                                                                 \n",
      " batch_normalization_2 (Batc  (None, 16, 16, 64)       256       \n",
      " hNormalization)                                                 \n",
      "                                                                 \n",
      " conv2d_3 (Conv2D)           (None, 16, 16, 64)        36928     \n",
      "                                                                 \n",
      " batch_normalization_3 (Batc  (None, 16, 16, 64)       256       \n",
      " hNormalization)                                                 \n",
      "                                                                 \n",
      " max_pooling2d_1 (MaxPooling  (None, 8, 8, 64)         0         \n",
      " 2D)                                                             \n",
      "                                                                 \n",
      " dropout_1 (Dropout)         (None, 8, 8, 64)          0         \n",
      "                                                                 \n",
      " conv2d_4 (Conv2D)           (None, 8, 8, 128)         73856     \n",
      "                                                                 \n",
      " batch_normalization_4 (Batc  (None, 8, 8, 128)        512       \n",
      " hNormalization)                                                 \n",
      "                                                                 \n",
      " conv2d_5 (Conv2D)           (None, 8, 8, 128)         147584    \n",
      "                                                                 \n",
      " batch_normalization_5 (Batc  (None, 8, 8, 128)        512       \n",
      " hNormalization)                                                 \n",
      "                                                                 \n",
      " max_pooling2d_2 (MaxPooling  (None, 4, 4, 128)        0         \n",
      " 2D)                                                             \n",
      "                                                                 \n",
      " dropout_2 (Dropout)         (None, 4, 4, 128)         0         \n",
      "                                                                 \n",
      " flatten (Flatten)           (None, 2048)              0         \n",
      "                                                                 \n",
      " dense (Dense)               (None, 128)               262272    \n",
      "                                                                 \n",
      " batch_normalization_6 (Batc  (None, 128)              512       \n",
      " hNormalization)                                                 \n",
      "                                                                 \n",
      " dropout_3 (Dropout)         (None, 128)               0         \n",
      "                                                                 \n",
      " dense_1 (Dense)             (None, 10)                1290      \n",
      "                                                                 \n",
      "=================================================================\n",
      "Total params: 552,874\n",
      "Trainable params: 551,722\n",
      "Non-trainable params: 1,152\n",
      "_________________________________________________________________\n",
      "Epoch 1/200\n",
      "781/781 [==============================] - 33s 29ms/step - loss: 1.5525 - accuracy: 0.4424 - val_loss: 1.2524 - val_accuracy: 0.5894\n",
      "Epoch 2/200\n",
      "781/781 [==============================] - 24s 31ms/step - loss: 1.1308 - accuracy: 0.6015 - val_loss: 1.1068 - val_accuracy: 0.6283\n",
      "Epoch 3/200\n",
      "781/781 [==============================] - 23s 30ms/step - loss: 0.9945 - accuracy: 0.6536 - val_loss: 0.9353 - val_accuracy: 0.6912\n",
      "Epoch 4/200\n",
      "781/781 [==============================] - 25s 32ms/step - loss: 0.9152 - accuracy: 0.6842 - val_loss: 1.0796 - val_accuracy: 0.6591\n",
      "Epoch 5/200\n",
      "781/781 [==============================] - 23s 29ms/step - loss: 0.8617 - accuracy: 0.7052 - val_loss: 0.9039 - val_accuracy: 0.6993\n",
      "Epoch 6/200\n",
      "781/781 [==============================] - 23s 30ms/step - loss: 0.8211 - accuracy: 0.7175 - val_loss: 0.8018 - val_accuracy: 0.7416\n",
      "Epoch 7/200\n",
      "781/781 [==============================] - 25s 32ms/step - loss: 0.7919 - accuracy: 0.7304 - val_loss: 0.8916 - val_accuracy: 0.7200\n",
      "Epoch 8/200\n",
      "781/781 [==============================] - 23s 29ms/step - loss: 0.7641 - accuracy: 0.7385 - val_loss: 0.7507 - val_accuracy: 0.7608\n",
      "Epoch 9/200\n",
      "781/781 [==============================] - 23s 29ms/step - loss: 0.7380 - accuracy: 0.7480 - val_loss: 0.7443 - val_accuracy: 0.7583\n",
      "Epoch 10/200\n",
      "781/781 [==============================] - 23s 29ms/step - loss: 0.7250 - accuracy: 0.7505 - val_loss: 0.7179 - val_accuracy: 0.7680\n",
      "Epoch 11/200\n",
      "781/781 [==============================] - 23s 29ms/step - loss: 0.7057 - accuracy: 0.7595 - val_loss: 0.7156 - val_accuracy: 0.7649\n",
      "Epoch 12/200\n",
      "781/781 [==============================] - 23s 29ms/step - loss: 0.6919 - accuracy: 0.7642 - val_loss: 0.5729 - val_accuracy: 0.8074\n",
      "Epoch 13/200\n",
      "781/781 [==============================] - 23s 29ms/step - loss: 0.6680 - accuracy: 0.7735 - val_loss: 0.8175 - val_accuracy: 0.7510\n",
      "Epoch 14/200\n",
      "781/781 [==============================] - 23s 29ms/step - loss: 0.6592 - accuracy: 0.7774 - val_loss: 0.6624 - val_accuracy: 0.7852\n",
      "Epoch 15/200\n",
      "781/781 [==============================] - 23s 29ms/step - loss: 0.6456 - accuracy: 0.7800 - val_loss: 0.8439 - val_accuracy: 0.7328\n",
      "Epoch 16/200\n",
      "781/781 [==============================] - 23s 29ms/step - loss: 0.6441 - accuracy: 0.7825 - val_loss: 0.6587 - val_accuracy: 0.7989\n",
      "Epoch 17/200\n",
      "781/781 [==============================] - 23s 29ms/step - loss: 0.6306 - accuracy: 0.7859 - val_loss: 0.6098 - val_accuracy: 0.8050\n",
      "Epoch 18/200\n",
      "781/781 [==============================] - 23s 29ms/step - loss: 0.6172 - accuracy: 0.7917 - val_loss: 0.5904 - val_accuracy: 0.8085\n",
      "Epoch 19/200\n",
      "781/781 [==============================] - 24s 30ms/step - loss: 0.6111 - accuracy: 0.7916 - val_loss: 0.6368 - val_accuracy: 0.7980\n",
      "Epoch 20/200\n",
      "781/781 [==============================] - 24s 30ms/step - loss: 0.6015 - accuracy: 0.7972 - val_loss: 0.5586 - val_accuracy: 0.8232\n",
      "Epoch 21/200\n",
      "781/781 [==============================] - 23s 29ms/step - loss: 0.5923 - accuracy: 0.8016 - val_loss: 0.5120 - val_accuracy: 0.8321\n",
      "Epoch 22/200\n",
      "781/781 [==============================] - 23s 29ms/step - loss: 0.5869 - accuracy: 0.8027 - val_loss: 0.6163 - val_accuracy: 0.8071\n",
      "Epoch 23/200\n",
      "781/781 [==============================] - 23s 29ms/step - loss: 0.5848 - accuracy: 0.8013 - val_loss: 0.5862 - val_accuracy: 0.8151\n",
      "Epoch 24/200\n",
      "781/781 [==============================] - 23s 29ms/step - loss: 0.5741 - accuracy: 0.8048 - val_loss: 0.4779 - val_accuracy: 0.8411\n",
      "Epoch 25/200\n",
      "781/781 [==============================] - 23s 29ms/step - loss: 0.5703 - accuracy: 0.8073 - val_loss: 0.5416 - val_accuracy: 0.8213\n",
      "Epoch 26/200\n",
      "781/781 [==============================] - 23s 29ms/step - loss: 0.5677 - accuracy: 0.8090 - val_loss: 0.6053 - val_accuracy: 0.8003\n",
      "Epoch 27/200\n",
      "781/781 [==============================] - 23s 29ms/step - loss: 0.5624 - accuracy: 0.8093 - val_loss: 0.5811 - val_accuracy: 0.8186\n",
      "Epoch 28/200\n",
      "781/781 [==============================] - 23s 29ms/step - loss: 0.5470 - accuracy: 0.8152 - val_loss: 0.6086 - val_accuracy: 0.8100\n",
      "Epoch 29/200\n",
      "781/781 [==============================] - 23s 29ms/step - loss: 0.5452 - accuracy: 0.8161 - val_loss: 0.6622 - val_accuracy: 0.7976\n",
      "Epoch 30/200\n",
      "781/781 [==============================] - 23s 29ms/step - loss: 0.5414 - accuracy: 0.8169 - val_loss: 0.7694 - val_accuracy: 0.7692\n",
      "Epoch 31/200\n",
      "781/781 [==============================] - 23s 29ms/step - loss: 0.5360 - accuracy: 0.8198 - val_loss: 0.5748 - val_accuracy: 0.8186\n",
      "Epoch 32/200\n",
      "781/781 [==============================] - 23s 29ms/step - loss: 0.5329 - accuracy: 0.8197 - val_loss: 0.4613 - val_accuracy: 0.8479\n",
      "Epoch 33/200\n",
      "781/781 [==============================] - 23s 29ms/step - loss: 0.5278 - accuracy: 0.8211 - val_loss: 0.5461 - val_accuracy: 0.8246\n",
      "Epoch 34/200\n",
      "781/781 [==============================] - 23s 29ms/step - loss: 0.5285 - accuracy: 0.8204 - val_loss: 0.4621 - val_accuracy: 0.8514\n",
      "Epoch 35/200\n",
      "781/781 [==============================] - 23s 29ms/step - loss: 0.5223 - accuracy: 0.8242 - val_loss: 0.6703 - val_accuracy: 0.8036\n",
      "Epoch 36/200\n",
      "781/781 [==============================] - 23s 29ms/step - loss: 0.5188 - accuracy: 0.8260 - val_loss: 0.4788 - val_accuracy: 0.8434\n",
      "Epoch 37/200\n",
      "781/781 [==============================] - 23s 29ms/step - loss: 0.5147 - accuracy: 0.8261 - val_loss: 0.4678 - val_accuracy: 0.8518\n",
      "Epoch 38/200\n",
      "781/781 [==============================] - 23s 29ms/step - loss: 0.5076 - accuracy: 0.8295 - val_loss: 0.5157 - val_accuracy: 0.8365\n",
      "Epoch 39/200\n",
      "781/781 [==============================] - 23s 29ms/step - loss: 0.5061 - accuracy: 0.8282 - val_loss: 0.5384 - val_accuracy: 0.8334\n",
      "Epoch 40/200\n",
      "781/781 [==============================] - 23s 29ms/step - loss: 0.5017 - accuracy: 0.8308 - val_loss: 0.5256 - val_accuracy: 0.8274\n",
      "Epoch 41/200\n",
      "781/781 [==============================] - 22s 29ms/step - loss: 0.5055 - accuracy: 0.8296 - val_loss: 0.4269 - val_accuracy: 0.8604\n",
      "Epoch 42/200\n",
      "781/781 [==============================] - 22s 29ms/step - loss: 0.4974 - accuracy: 0.8314 - val_loss: 0.7147 - val_accuracy: 0.7872\n",
      "Epoch 43/200\n",
      "781/781 [==============================] - 22s 29ms/step - loss: 0.4926 - accuracy: 0.8337 - val_loss: 0.4627 - val_accuracy: 0.8553\n",
      "Epoch 44/200\n",
      "781/781 [==============================] - 22s 29ms/step - loss: 0.4964 - accuracy: 0.8323 - val_loss: 0.4635 - val_accuracy: 0.8518\n",
      "Epoch 45/200\n",
      "781/781 [==============================] - 23s 29ms/step - loss: 0.4937 - accuracy: 0.8356 - val_loss: 0.6164 - val_accuracy: 0.8108\n",
      "Epoch 46/200\n",
      "781/781 [==============================] - 22s 29ms/step - loss: 0.4807 - accuracy: 0.8371 - val_loss: 0.4911 - val_accuracy: 0.8475\n",
      "Epoch 47/200\n",
      "781/781 [==============================] - 22s 29ms/step - loss: 0.4829 - accuracy: 0.8358 - val_loss: 0.4795 - val_accuracy: 0.8498\n",
      "Epoch 48/200\n",
      "781/781 [==============================] - 22s 29ms/step - loss: 0.4863 - accuracy: 0.8371 - val_loss: 0.3878 - val_accuracy: 0.8706\n",
      "Epoch 49/200\n",
      "781/781 [==============================] - 22s 29ms/step - loss: 0.4764 - accuracy: 0.8376 - val_loss: 0.4623 - val_accuracy: 0.8557\n",
      "Epoch 50/200\n",
      "781/781 [==============================] - 22s 29ms/step - loss: 0.4798 - accuracy: 0.8391 - val_loss: 0.5133 - val_accuracy: 0.8407\n",
      "Epoch 51/200\n",
      "781/781 [==============================] - 23s 30ms/step - loss: 0.4740 - accuracy: 0.8416 - val_loss: 0.4944 - val_accuracy: 0.8457\n",
      "Epoch 52/200\n",
      "781/781 [==============================] - 23s 30ms/step - loss: 0.4703 - accuracy: 0.8404 - val_loss: 0.4146 - val_accuracy: 0.8706\n",
      "Epoch 53/200\n",
      "781/781 [==============================] - 23s 29ms/step - loss: 0.4695 - accuracy: 0.8402 - val_loss: 0.4139 - val_accuracy: 0.8718\n",
      "Epoch 54/200\n",
      "781/781 [==============================] - 22s 29ms/step - loss: 0.4658 - accuracy: 0.8429 - val_loss: 0.4397 - val_accuracy: 0.8619\n",
      "Epoch 55/200\n",
      "781/781 [==============================] - 22s 29ms/step - loss: 0.4683 - accuracy: 0.8426 - val_loss: 0.5401 - val_accuracy: 0.8381\n",
      "Epoch 56/200\n",
      "781/781 [==============================] - 22s 29ms/step - loss: 0.4689 - accuracy: 0.8420 - val_loss: 0.4101 - val_accuracy: 0.8682\n",
      "Epoch 57/200\n",
      "781/781 [==============================] - 22s 29ms/step - loss: 0.4619 - accuracy: 0.8436 - val_loss: 0.4481 - val_accuracy: 0.8589\n",
      "Epoch 58/200\n",
      "781/781 [==============================] - 22s 29ms/step - loss: 0.4600 - accuracy: 0.8454 - val_loss: 0.4759 - val_accuracy: 0.8582\n",
      "Epoch 59/200\n",
      "781/781 [==============================] - 23s 30ms/step - loss: 0.4571 - accuracy: 0.8471 - val_loss: 0.5018 - val_accuracy: 0.8446\n",
      "Epoch 60/200\n",
      "781/781 [==============================] - 22s 29ms/step - loss: 0.4537 - accuracy: 0.8489 - val_loss: 0.4754 - val_accuracy: 0.8533\n",
      "Epoch 61/200\n",
      "781/781 [==============================] - 22s 29ms/step - loss: 0.4544 - accuracy: 0.8461 - val_loss: 0.4670 - val_accuracy: 0.8546\n",
      "Epoch 62/200\n",
      "781/781 [==============================] - 22s 29ms/step - loss: 0.4471 - accuracy: 0.8482 - val_loss: 0.4181 - val_accuracy: 0.8630\n",
      "Epoch 63/200\n",
      "781/781 [==============================] - 23s 29ms/step - loss: 0.4540 - accuracy: 0.8465 - val_loss: 0.4132 - val_accuracy: 0.8682\n",
      "Epoch 64/200\n",
      "781/781 [==============================] - 22s 29ms/step - loss: 0.4452 - accuracy: 0.8500 - val_loss: 0.5048 - val_accuracy: 0.8438\n",
      "Epoch 65/200\n",
      "781/781 [==============================] - 22s 29ms/step - loss: 0.4467 - accuracy: 0.8488 - val_loss: 0.3940 - val_accuracy: 0.8741\n",
      "Epoch 66/200\n",
      "781/781 [==============================] - 23s 29ms/step - loss: 0.4399 - accuracy: 0.8532 - val_loss: 0.5185 - val_accuracy: 0.8426\n",
      "Epoch 67/200\n",
      "781/781 [==============================] - 23s 29ms/step - loss: 0.4389 - accuracy: 0.8509 - val_loss: 0.4296 - val_accuracy: 0.8586\n",
      "Epoch 68/200\n",
      "781/781 [==============================] - 22s 29ms/step - loss: 0.4407 - accuracy: 0.8507 - val_loss: 0.4198 - val_accuracy: 0.8621\n",
      "Epoch 69/200\n",
      "781/781 [==============================] - 23s 29ms/step - loss: 0.4433 - accuracy: 0.8520 - val_loss: 0.4585 - val_accuracy: 0.8547\n",
      "Epoch 70/200\n",
      "781/781 [==============================] - 22s 29ms/step - loss: 0.4377 - accuracy: 0.8520 - val_loss: 0.4832 - val_accuracy: 0.8557\n",
      "Epoch 71/200\n",
      "781/781 [==============================] - 23s 29ms/step - loss: 0.4391 - accuracy: 0.8521 - val_loss: 0.4439 - val_accuracy: 0.8569\n",
      "Epoch 72/200\n",
      "781/781 [==============================] - 22s 29ms/step - loss: 0.4382 - accuracy: 0.8521 - val_loss: 0.4760 - val_accuracy: 0.8544\n",
      "Epoch 73/200\n",
      "781/781 [==============================] - 22s 29ms/step - loss: 0.4372 - accuracy: 0.8528 - val_loss: 0.4311 - val_accuracy: 0.8631\n",
      "Epoch 74/200\n",
      "781/781 [==============================] - 23s 29ms/step - loss: 0.4363 - accuracy: 0.8525 - val_loss: 0.4449 - val_accuracy: 0.8630\n",
      "Epoch 75/200\n",
      "781/781 [==============================] - 23s 29ms/step - loss: 0.4353 - accuracy: 0.8534 - val_loss: 0.4043 - val_accuracy: 0.8705\n",
      "Epoch 76/200\n",
      "781/781 [==============================] - 22s 29ms/step - loss: 0.4320 - accuracy: 0.8538 - val_loss: 0.4201 - val_accuracy: 0.8666\n",
      "Epoch 77/200\n",
      "781/781 [==============================] - 23s 29ms/step - loss: 0.4279 - accuracy: 0.8562 - val_loss: 0.4285 - val_accuracy: 0.8662\n",
      "Epoch 78/200\n",
      "781/781 [==============================] - 23s 29ms/step - loss: 0.4252 - accuracy: 0.8564 - val_loss: 0.4818 - val_accuracy: 0.8551\n",
      "Epoch 79/200\n",
      "781/781 [==============================] - 22s 29ms/step - loss: 0.4282 - accuracy: 0.8545 - val_loss: 0.4090 - val_accuracy: 0.8704\n",
      "Epoch 80/200\n",
      "781/781 [==============================] - 23s 29ms/step - loss: 0.4250 - accuracy: 0.8585 - val_loss: 0.3755 - val_accuracy: 0.8816\n",
      "Epoch 81/200\n",
      "781/781 [==============================] - 23s 30ms/step - loss: 0.4239 - accuracy: 0.8578 - val_loss: 0.4477 - val_accuracy: 0.8571\n",
      "Epoch 82/200\n",
      "781/781 [==============================] - 23s 30ms/step - loss: 0.4199 - accuracy: 0.8597 - val_loss: 0.3822 - val_accuracy: 0.8819\n",
      "Epoch 83/200\n",
      "781/781 [==============================] - 24s 30ms/step - loss: 0.4214 - accuracy: 0.8581 - val_loss: 0.4541 - val_accuracy: 0.8538\n",
      "Epoch 84/200\n",
      "781/781 [==============================] - 23s 29ms/step - loss: 0.4205 - accuracy: 0.8586 - val_loss: 0.3519 - val_accuracy: 0.8859\n",
      "Epoch 85/200\n",
      "781/781 [==============================] - 23s 29ms/step - loss: 0.4175 - accuracy: 0.8599 - val_loss: 0.4556 - val_accuracy: 0.8610\n",
      "Epoch 86/200\n",
      "781/781 [==============================] - 23s 29ms/step - loss: 0.4163 - accuracy: 0.8590 - val_loss: 0.3613 - val_accuracy: 0.8855\n",
      "Epoch 87/200\n",
      "781/781 [==============================] - 22s 29ms/step - loss: 0.4190 - accuracy: 0.8589 - val_loss: 0.4758 - val_accuracy: 0.8548\n",
      "Epoch 88/200\n",
      "781/781 [==============================] - 23s 29ms/step - loss: 0.4182 - accuracy: 0.8606 - val_loss: 0.3975 - val_accuracy: 0.8766\n",
      "Epoch 89/200\n",
      "781/781 [==============================] - 22s 29ms/step - loss: 0.4168 - accuracy: 0.8598 - val_loss: 0.3885 - val_accuracy: 0.8788\n",
      "Epoch 90/200\n",
      "781/781 [==============================] - 23s 29ms/step - loss: 0.4109 - accuracy: 0.8617 - val_loss: 0.4028 - val_accuracy: 0.8712\n",
      "Epoch 91/200\n",
      "781/781 [==============================] - 23s 29ms/step - loss: 0.4124 - accuracy: 0.8613 - val_loss: 0.4448 - val_accuracy: 0.8623\n",
      "Epoch 92/200\n",
      "781/781 [==============================] - 23s 29ms/step - loss: 0.4091 - accuracy: 0.8618 - val_loss: 0.3788 - val_accuracy: 0.8817\n",
      "Epoch 93/200\n",
      "781/781 [==============================] - 23s 29ms/step - loss: 0.4122 - accuracy: 0.8599 - val_loss: 0.4130 - val_accuracy: 0.8684\n",
      "Epoch 94/200\n",
      "781/781 [==============================] - 23s 29ms/step - loss: 0.4130 - accuracy: 0.8611 - val_loss: 0.4475 - val_accuracy: 0.8647\n",
      "Epoch 95/200\n",
      "781/781 [==============================] - 23s 29ms/step - loss: 0.4051 - accuracy: 0.8627 - val_loss: 0.4618 - val_accuracy: 0.8591\n",
      "Epoch 96/200\n",
      "781/781 [==============================] - 23s 29ms/step - loss: 0.4049 - accuracy: 0.8648 - val_loss: 0.4720 - val_accuracy: 0.8619\n",
      "Epoch 97/200\n",
      "781/781 [==============================] - 23s 29ms/step - loss: 0.4092 - accuracy: 0.8631 - val_loss: 0.4410 - val_accuracy: 0.8655\n",
      "Epoch 98/200\n",
      "781/781 [==============================] - 23s 29ms/step - loss: 0.4104 - accuracy: 0.8630 - val_loss: 0.4070 - val_accuracy: 0.8734\n",
      "Epoch 99/200\n",
      "781/781 [==============================] - 23s 29ms/step - loss: 0.4071 - accuracy: 0.8625 - val_loss: 0.4184 - val_accuracy: 0.8708\n",
      "Epoch 100/200\n",
      "781/781 [==============================] - 23s 29ms/step - loss: 0.4083 - accuracy: 0.8617 - val_loss: 0.4753 - val_accuracy: 0.8565\n",
      "Epoch 101/200\n",
      "781/781 [==============================] - 23s 29ms/step - loss: 0.4007 - accuracy: 0.8645 - val_loss: 0.4733 - val_accuracy: 0.8617\n",
      "Epoch 102/200\n",
      "781/781 [==============================] - 23s 29ms/step - loss: 0.4006 - accuracy: 0.8649 - val_loss: 0.4200 - val_accuracy: 0.8727\n",
      "Epoch 103/200\n",
      "781/781 [==============================] - 23s 29ms/step - loss: 0.4040 - accuracy: 0.8643 - val_loss: 0.4076 - val_accuracy: 0.8751\n",
      "Epoch 104/200\n",
      "781/781 [==============================] - 23s 29ms/step - loss: 0.4010 - accuracy: 0.8650 - val_loss: 0.4286 - val_accuracy: 0.8660\n",
      "Epoch 105/200\n",
      "781/781 [==============================] - 23s 29ms/step - loss: 0.3999 - accuracy: 0.8671 - val_loss: 0.5137 - val_accuracy: 0.8512\n",
      "Epoch 106/200\n",
      "781/781 [==============================] - 23s 29ms/step - loss: 0.4068 - accuracy: 0.8622 - val_loss: 0.3999 - val_accuracy: 0.8744\n",
      "Epoch 107/200\n",
      "781/781 [==============================] - 23s 29ms/step - loss: 0.3955 - accuracy: 0.8657 - val_loss: 0.5019 - val_accuracy: 0.8534\n",
      "Epoch 108/200\n",
      "781/781 [==============================] - 23s 29ms/step - loss: 0.3957 - accuracy: 0.8662 - val_loss: 0.4296 - val_accuracy: 0.8721\n",
      "Epoch 109/200\n",
      "781/781 [==============================] - 23s 29ms/step - loss: 0.3972 - accuracy: 0.8670 - val_loss: 0.4678 - val_accuracy: 0.8570\n",
      "Epoch 110/200\n",
      "781/781 [==============================] - 23s 29ms/step - loss: 0.3959 - accuracy: 0.8664 - val_loss: 0.3483 - val_accuracy: 0.8937\n",
      "Epoch 111/200\n",
      "781/781 [==============================] - 23s 29ms/step - loss: 0.3973 - accuracy: 0.8672 - val_loss: 0.4263 - val_accuracy: 0.8687\n",
      "Epoch 112/200\n",
      "781/781 [==============================] - 23s 29ms/step - loss: 0.3933 - accuracy: 0.8673 - val_loss: 0.4053 - val_accuracy: 0.8806\n",
      "Epoch 113/200\n",
      "781/781 [==============================] - 23s 29ms/step - loss: 0.3968 - accuracy: 0.8669 - val_loss: 0.3750 - val_accuracy: 0.8813\n",
      "Epoch 114/200\n",
      "781/781 [==============================] - 23s 29ms/step - loss: 0.3966 - accuracy: 0.8670 - val_loss: 0.4086 - val_accuracy: 0.8763\n",
      "Epoch 115/200\n",
      "781/781 [==============================] - 23s 29ms/step - loss: 0.3883 - accuracy: 0.8728 - val_loss: 0.4441 - val_accuracy: 0.8634\n",
      "Epoch 116/200\n",
      "781/781 [==============================] - 23s 29ms/step - loss: 0.3855 - accuracy: 0.8713 - val_loss: 0.4059 - val_accuracy: 0.8744\n",
      "Epoch 117/200\n",
      "781/781 [==============================] - 23s 29ms/step - loss: 0.3855 - accuracy: 0.8711 - val_loss: 0.4156 - val_accuracy: 0.8721\n",
      "Epoch 118/200\n",
      "781/781 [==============================] - 23s 29ms/step - loss: 0.3886 - accuracy: 0.8673 - val_loss: 0.3766 - val_accuracy: 0.8837\n",
      "Epoch 119/200\n",
      "781/781 [==============================] - 23s 29ms/step - loss: 0.3890 - accuracy: 0.8694 - val_loss: 0.3730 - val_accuracy: 0.8839\n",
      "Epoch 120/200\n",
      "781/781 [==============================] - 23s 29ms/step - loss: 0.3895 - accuracy: 0.8676 - val_loss: 0.3717 - val_accuracy: 0.8829\n",
      "Epoch 121/200\n",
      "781/781 [==============================] - 23s 29ms/step - loss: 0.3874 - accuracy: 0.8696 - val_loss: 0.4258 - val_accuracy: 0.8689\n",
      "Epoch 122/200\n",
      "781/781 [==============================] - 23s 29ms/step - loss: 0.3872 - accuracy: 0.8685 - val_loss: 0.4099 - val_accuracy: 0.8740\n",
      "Epoch 123/200\n",
      "781/781 [==============================] - 23s 29ms/step - loss: 0.3821 - accuracy: 0.8700 - val_loss: 0.3958 - val_accuracy: 0.8823\n",
      "Epoch 124/200\n",
      "781/781 [==============================] - 23s 29ms/step - loss: 0.3848 - accuracy: 0.8704 - val_loss: 0.3838 - val_accuracy: 0.8828\n",
      "Epoch 125/200\n",
      "781/781 [==============================] - 23s 29ms/step - loss: 0.3767 - accuracy: 0.8728 - val_loss: 0.3963 - val_accuracy: 0.8788\n",
      "Epoch 126/200\n",
      "781/781 [==============================] - 23s 29ms/step - loss: 0.3830 - accuracy: 0.8698 - val_loss: 0.3900 - val_accuracy: 0.8802\n",
      "Epoch 127/200\n",
      "781/781 [==============================] - 23s 29ms/step - loss: 0.3804 - accuracy: 0.8719 - val_loss: 0.4297 - val_accuracy: 0.8684\n",
      "Epoch 128/200\n",
      "781/781 [==============================] - 23s 29ms/step - loss: 0.3760 - accuracy: 0.8704 - val_loss: 0.3760 - val_accuracy: 0.8860\n",
      "Epoch 129/200\n",
      "781/781 [==============================] - 23s 29ms/step - loss: 0.3892 - accuracy: 0.8685 - val_loss: 0.3762 - val_accuracy: 0.8863\n",
      "Epoch 130/200\n",
      "781/781 [==============================] - 23s 29ms/step - loss: 0.3826 - accuracy: 0.8718 - val_loss: 0.3940 - val_accuracy: 0.8809\n",
      "Epoch 131/200\n",
      "781/781 [==============================] - 23s 29ms/step - loss: 0.3745 - accuracy: 0.8742 - val_loss: 0.3530 - val_accuracy: 0.8886\n",
      "Epoch 132/200\n",
      "781/781 [==============================] - 23s 29ms/step - loss: 0.3829 - accuracy: 0.8710 - val_loss: 0.3836 - val_accuracy: 0.8768\n",
      "Epoch 133/200\n",
      "781/781 [==============================] - 23s 29ms/step - loss: 0.3810 - accuracy: 0.8713 - val_loss: 0.3809 - val_accuracy: 0.8826\n",
      "Epoch 134/200\n",
      "781/781 [==============================] - 23s 29ms/step - loss: 0.3735 - accuracy: 0.8757 - val_loss: 0.4299 - val_accuracy: 0.8735\n",
      "Epoch 135/200\n",
      "781/781 [==============================] - 23s 29ms/step - loss: 0.3788 - accuracy: 0.8708 - val_loss: 0.3907 - val_accuracy: 0.8771\n",
      "Epoch 136/200\n",
      "781/781 [==============================] - 23s 29ms/step - loss: 0.3754 - accuracy: 0.8733 - val_loss: 0.4133 - val_accuracy: 0.8726\n",
      "Epoch 137/200\n",
      "781/781 [==============================] - 23s 29ms/step - loss: 0.3747 - accuracy: 0.8752 - val_loss: 0.4141 - val_accuracy: 0.8754\n",
      "Epoch 138/200\n",
      "781/781 [==============================] - 23s 29ms/step - loss: 0.3770 - accuracy: 0.8715 - val_loss: 0.4346 - val_accuracy: 0.8666\n",
      "Epoch 139/200\n",
      "781/781 [==============================] - 23s 29ms/step - loss: 0.3706 - accuracy: 0.8752 - val_loss: 0.4045 - val_accuracy: 0.8761\n",
      "Epoch 140/200\n",
      "781/781 [==============================] - 23s 29ms/step - loss: 0.3744 - accuracy: 0.8735 - val_loss: 0.4239 - val_accuracy: 0.8696\n",
      "Epoch 141/200\n",
      "781/781 [==============================] - 23s 29ms/step - loss: 0.3740 - accuracy: 0.8735 - val_loss: 0.3602 - val_accuracy: 0.8886\n",
      "Epoch 142/200\n",
      "781/781 [==============================] - 23s 29ms/step - loss: 0.3734 - accuracy: 0.8748 - val_loss: 0.4004 - val_accuracy: 0.8762\n",
      "Epoch 143/200\n",
      "781/781 [==============================] - 23s 29ms/step - loss: 0.3711 - accuracy: 0.8745 - val_loss: 0.3393 - val_accuracy: 0.8939\n",
      "Epoch 144/200\n",
      "781/781 [==============================] - 23s 29ms/step - loss: 0.3703 - accuracy: 0.8761 - val_loss: 0.4215 - val_accuracy: 0.8755\n",
      "Epoch 145/200\n",
      "781/781 [==============================] - 23s 29ms/step - loss: 0.3706 - accuracy: 0.8765 - val_loss: 0.3405 - val_accuracy: 0.8933\n",
      "Epoch 146/200\n",
      "781/781 [==============================] - 22s 28ms/step - loss: 0.3688 - accuracy: 0.8768 - val_loss: 0.3711 - val_accuracy: 0.8826\n",
      "Epoch 147/200\n",
      "781/781 [==============================] - 22s 28ms/step - loss: 0.3648 - accuracy: 0.8776 - val_loss: 0.3487 - val_accuracy: 0.8902\n",
      "Epoch 148/200\n",
      "781/781 [==============================] - 22s 28ms/step - loss: 0.3727 - accuracy: 0.8741 - val_loss: 0.3936 - val_accuracy: 0.8771\n",
      "Epoch 149/200\n",
      "781/781 [==============================] - 23s 29ms/step - loss: 0.3661 - accuracy: 0.8761 - val_loss: 0.3718 - val_accuracy: 0.8808\n",
      "Epoch 150/200\n",
      "781/781 [==============================] - 23s 29ms/step - loss: 0.3667 - accuracy: 0.8784 - val_loss: 0.3787 - val_accuracy: 0.8824\n",
      "Epoch 151/200\n",
      "781/781 [==============================] - 23s 30ms/step - loss: 0.3648 - accuracy: 0.8769 - val_loss: 0.3822 - val_accuracy: 0.8810\n",
      "Epoch 152/200\n",
      "781/781 [==============================] - 23s 30ms/step - loss: 0.3609 - accuracy: 0.8781 - val_loss: 0.3746 - val_accuracy: 0.8841\n",
      "Epoch 153/200\n",
      "781/781 [==============================] - 23s 29ms/step - loss: 0.3664 - accuracy: 0.8750 - val_loss: 0.4076 - val_accuracy: 0.8752\n",
      "Epoch 154/200\n",
      "781/781 [==============================] - 23s 29ms/step - loss: 0.3643 - accuracy: 0.8770 - val_loss: 0.3716 - val_accuracy: 0.8829\n",
      "Epoch 155/200\n",
      "781/781 [==============================] - 23s 29ms/step - loss: 0.3685 - accuracy: 0.8757 - val_loss: 0.3968 - val_accuracy: 0.8802\n",
      "Epoch 156/200\n",
      "781/781 [==============================] - 23s 29ms/step - loss: 0.3647 - accuracy: 0.8760 - val_loss: 0.4265 - val_accuracy: 0.8709\n",
      "Epoch 157/200\n",
      "781/781 [==============================] - 23s 29ms/step - loss: 0.3653 - accuracy: 0.8763 - val_loss: 0.4189 - val_accuracy: 0.8716\n",
      "Epoch 158/200\n",
      "781/781 [==============================] - 23s 29ms/step - loss: 0.3588 - accuracy: 0.8792 - val_loss: 0.4205 - val_accuracy: 0.8725\n",
      "Epoch 159/200\n",
      "781/781 [==============================] - 23s 29ms/step - loss: 0.3690 - accuracy: 0.8756 - val_loss: 0.3718 - val_accuracy: 0.8845\n",
      "Epoch 160/200\n",
      "781/781 [==============================] - 23s 29ms/step - loss: 0.3590 - accuracy: 0.8795 - val_loss: 0.3604 - val_accuracy: 0.8891\n",
      "Epoch 161/200\n",
      "781/781 [==============================] - 23s 29ms/step - loss: 0.3634 - accuracy: 0.8785 - val_loss: 0.4747 - val_accuracy: 0.8621\n",
      "Epoch 162/200\n",
      "781/781 [==============================] - 23s 29ms/step - loss: 0.3571 - accuracy: 0.8804 - val_loss: 0.3536 - val_accuracy: 0.8885\n",
      "Epoch 163/200\n",
      "781/781 [==============================] - 23s 29ms/step - loss: 0.3615 - accuracy: 0.8779 - val_loss: 0.4381 - val_accuracy: 0.8699\n",
      "Epoch 164/200\n",
      "781/781 [==============================] - 23s 29ms/step - loss: 0.3579 - accuracy: 0.8809 - val_loss: 0.3797 - val_accuracy: 0.8797\n",
      "Epoch 165/200\n",
      "781/781 [==============================] - 23s 29ms/step - loss: 0.3628 - accuracy: 0.8782 - val_loss: 0.3886 - val_accuracy: 0.8798\n",
      "Epoch 166/200\n",
      "781/781 [==============================] - 23s 29ms/step - loss: 0.3611 - accuracy: 0.8798 - val_loss: 0.3656 - val_accuracy: 0.8862\n",
      "Epoch 167/200\n",
      "781/781 [==============================] - 23s 29ms/step - loss: 0.3587 - accuracy: 0.8784 - val_loss: 0.3855 - val_accuracy: 0.8779\n",
      "Epoch 168/200\n",
      "781/781 [==============================] - 23s 29ms/step - loss: 0.3520 - accuracy: 0.8804 - val_loss: 0.4134 - val_accuracy: 0.8774\n",
      "Epoch 169/200\n",
      "781/781 [==============================] - 23s 29ms/step - loss: 0.3609 - accuracy: 0.8783 - val_loss: 0.3757 - val_accuracy: 0.8822\n",
      "Epoch 170/200\n",
      "781/781 [==============================] - 23s 29ms/step - loss: 0.3566 - accuracy: 0.8794 - val_loss: 0.4374 - val_accuracy: 0.8694\n",
      "Epoch 171/200\n",
      "781/781 [==============================] - 23s 29ms/step - loss: 0.3584 - accuracy: 0.8763 - val_loss: 0.3981 - val_accuracy: 0.8752\n",
      "Epoch 172/200\n",
      "781/781 [==============================] - 23s 29ms/step - loss: 0.3562 - accuracy: 0.8791 - val_loss: 0.4024 - val_accuracy: 0.8766\n",
      "Epoch 173/200\n",
      "781/781 [==============================] - 23s 29ms/step - loss: 0.3563 - accuracy: 0.8796 - val_loss: 0.3682 - val_accuracy: 0.8845\n",
      "Epoch 174/200\n",
      "781/781 [==============================] - 23s 29ms/step - loss: 0.3549 - accuracy: 0.8810 - val_loss: 0.3613 - val_accuracy: 0.8890\n",
      "Epoch 175/200\n",
      "781/781 [==============================] - 23s 29ms/step - loss: 0.3533 - accuracy: 0.8808 - val_loss: 0.4029 - val_accuracy: 0.8764\n",
      "Epoch 176/200\n",
      "781/781 [==============================] - 23s 29ms/step - loss: 0.3567 - accuracy: 0.8800 - val_loss: 0.3551 - val_accuracy: 0.8899\n",
      "Epoch 177/200\n",
      "781/781 [==============================] - 23s 29ms/step - loss: 0.3556 - accuracy: 0.8792 - val_loss: 0.3555 - val_accuracy: 0.8886\n",
      "Epoch 178/200\n",
      "781/781 [==============================] - 23s 29ms/step - loss: 0.3595 - accuracy: 0.8791 - val_loss: 0.3468 - val_accuracy: 0.8906\n",
      "Epoch 179/200\n",
      "781/781 [==============================] - 23s 29ms/step - loss: 0.3507 - accuracy: 0.8806 - val_loss: 0.4246 - val_accuracy: 0.8705\n",
      "Epoch 180/200\n",
      "781/781 [==============================] - 23s 29ms/step - loss: 0.3548 - accuracy: 0.8804 - val_loss: 0.3953 - val_accuracy: 0.8809\n",
      "Epoch 181/200\n",
      "781/781 [==============================] - 23s 29ms/step - loss: 0.3537 - accuracy: 0.8817 - val_loss: 0.4646 - val_accuracy: 0.8634\n",
      "Epoch 182/200\n",
      "781/781 [==============================] - 23s 29ms/step - loss: 0.3532 - accuracy: 0.8796 - val_loss: 0.3786 - val_accuracy: 0.8841\n",
      "Epoch 183/200\n",
      "781/781 [==============================] - 23s 29ms/step - loss: 0.3584 - accuracy: 0.8786 - val_loss: 0.3616 - val_accuracy: 0.8874\n",
      "Epoch 184/200\n",
      "781/781 [==============================] - 23s 29ms/step - loss: 0.3521 - accuracy: 0.8811 - val_loss: 0.3539 - val_accuracy: 0.8850\n",
      "Epoch 185/200\n",
      "781/781 [==============================] - 23s 30ms/step - loss: 0.3505 - accuracy: 0.8835 - val_loss: 0.3585 - val_accuracy: 0.8887\n",
      "Epoch 186/200\n",
      "781/781 [==============================] - 23s 29ms/step - loss: 0.3480 - accuracy: 0.8817 - val_loss: 0.4044 - val_accuracy: 0.8754\n",
      "Epoch 187/200\n",
      "781/781 [==============================] - 23s 29ms/step - loss: 0.3505 - accuracy: 0.8807 - val_loss: 0.4523 - val_accuracy: 0.8676\n",
      "Epoch 188/200\n",
      "781/781 [==============================] - 23s 29ms/step - loss: 0.3489 - accuracy: 0.8839 - val_loss: 0.3822 - val_accuracy: 0.8843\n",
      "Epoch 189/200\n",
      "781/781 [==============================] - 23s 29ms/step - loss: 0.3457 - accuracy: 0.8824 - val_loss: 0.3437 - val_accuracy: 0.8938\n",
      "Epoch 190/200\n",
      "781/781 [==============================] - 23s 29ms/step - loss: 0.3514 - accuracy: 0.8820 - val_loss: 0.4534 - val_accuracy: 0.8715\n",
      "Epoch 191/200\n",
      "781/781 [==============================] - 23s 30ms/step - loss: 0.3494 - accuracy: 0.8833 - val_loss: 0.3620 - val_accuracy: 0.8905\n",
      "Epoch 192/200\n",
      "781/781 [==============================] - 23s 29ms/step - loss: 0.3482 - accuracy: 0.8826 - val_loss: 0.3506 - val_accuracy: 0.8909\n",
      "Epoch 193/200\n",
      "781/781 [==============================] - 23s 29ms/step - loss: 0.3462 - accuracy: 0.8832 - val_loss: 0.4391 - val_accuracy: 0.8705\n",
      "Epoch 194/200\n",
      "781/781 [==============================] - 23s 29ms/step - loss: 0.3492 - accuracy: 0.8814 - val_loss: 0.3919 - val_accuracy: 0.8795\n",
      "Epoch 195/200\n",
      "781/781 [==============================] - 23s 29ms/step - loss: 0.3501 - accuracy: 0.8822 - val_loss: 0.3766 - val_accuracy: 0.8936\n",
      "Epoch 196/200\n",
      "781/781 [==============================] - 23s 29ms/step - loss: 0.3472 - accuracy: 0.8815 - val_loss: 0.4409 - val_accuracy: 0.8652\n",
      "Epoch 197/200\n",
      "781/781 [==============================] - 23s 29ms/step - loss: 0.3393 - accuracy: 0.8842 - val_loss: 0.3699 - val_accuracy: 0.8830\n",
      "Epoch 198/200\n",
      "781/781 [==============================] - 23s 29ms/step - loss: 0.3465 - accuracy: 0.8823 - val_loss: 0.3728 - val_accuracy: 0.8868\n",
      "Epoch 199/200\n",
      "781/781 [==============================] - 23s 29ms/step - loss: 0.3461 - accuracy: 0.8837 - val_loss: 0.3424 - val_accuracy: 0.8919\n",
      "Epoch 200/200\n",
      "781/781 [==============================] - 23s 29ms/step - loss: 0.3461 - accuracy: 0.8850 - val_loss: 0.3406 - val_accuracy: 0.8981\n"
     ]
    }
   ],
   "source": [
    "# Build a CNN model\n",
    "cnn = Sequential()\n",
    "\n",
    "cnn.add(Conv2D(filters=32, kernel_size=(3, 3), activation='relu', padding=\"same\", kernel_initializer='he_uniform', input_shape=(32, 32, 3)))\n",
    "# Batch Normalization layer\n",
    "cnn.add(BatchNormalization())\n",
    "cnn.add(Conv2D(filters=32, kernel_size=(3, 3), activation='relu', padding=\"same\", kernel_initializer='he_uniform'))\n",
    "# Batch Normalization layer\n",
    "cnn.add(BatchNormalization())\n",
    "cnn.add(MaxPooling2D(pool_size=(2, 2)))\n",
    "# Dropout layer \n",
    "cnn.add(Dropout(0.25))\n",
    "\n",
    "cnn.add(Conv2D(filters=64, kernel_size=(3, 3), activation='relu', padding=\"same\", kernel_initializer='he_uniform'))\n",
    "# Batch Normalization layer\n",
    "cnn.add(BatchNormalization())\n",
    "cnn.add(Conv2D(filters=64, kernel_size=(3, 3), activation='relu', padding=\"same\", kernel_initializer='he_uniform'))\n",
    "# Batch Normalization layer\n",
    "cnn.add(BatchNormalization())\n",
    "cnn.add(MaxPooling2D(pool_size=(2, 2)))\n",
    "# Dropout layer\n",
    "cnn.add(Dropout(0.30))\n",
    "\n",
    "cnn.add(Conv2D(filters=128, kernel_size=(3, 3), activation='relu', padding=\"same\", kernel_initializer='he_uniform'))\n",
    "# Batch Normalization layer\n",
    "cnn.add(BatchNormalization())\n",
    "cnn.add(Conv2D(filters=128, kernel_size=(3, 3), activation='relu', padding=\"same\", kernel_initializer='he_uniform'))\n",
    "# Batch Normalization layer\n",
    "cnn.add(BatchNormalization())\n",
    "cnn.add(MaxPooling2D(pool_size=(2, 2)))\n",
    "# Dropout layer \n",
    "cnn.add(Dropout(0.35))\n",
    "\n",
    "\n",
    "cnn.add(Flatten())\n",
    "cnn.add(Dense(128, activation='relu'))\n",
    "# Batch Normalization layer\n",
    "cnn.add(BatchNormalization())\n",
    "# Dropout layer added here\n",
    "cnn.add(Dropout(0.40))\n",
    "cnn.add(Dense(10, activation='softmax'))\n",
    "\n",
    "#Lets define data generator \n",
    "datagen = ImageDataGenerator(\n",
    "    width_shift_range=0.1,\n",
    "    height_shift_range=0.1,\n",
    "    rotation_range= 20,\n",
    "    horizontal_flip=True,\n",
    "    )\n",
    "\n",
    "# Compile the CNN model\n",
    "rms_prop = RMSprop(learning_rate=0.01, decay=0.000001)\n",
    "cnn.compile(loss='categorical_crossentropy', optimizer=rms_prop, metrics=['accuracy'])\n",
    "\n",
    "# Expand the training dataset with iterator\n",
    "it_train = datagen.flow(X_train, y_train, batch_size=64)\n",
    "steps = int(X_train.shape[0] / 64)\n",
    "\n",
    "# Summary of the CNN model\n",
    "cnn.summary()\n",
    "\n",
    "# fit model\n",
    "history = cnn.fit(it_train, \n",
    "                  steps_per_epoch=steps, \n",
    "                  batch_size=64, \n",
    "                  epochs=200, \n",
    "                  validation_data=(X_test, y_test))\n"
   ]
  },
  {
   "cell_type": "code",
   "execution_count": null,
   "metadata": {
    "colab": {
     "base_uri": "https://localhost:8080/",
     "height": 295
    },
    "id": "SuYuxrc1ERD6",
    "outputId": "6ec39eb3-2c68-4e73-90f4-f095245bb136"
   },
   "outputs": [
    {
     "data": {
      "image/png": "[encoded data removed]",
      "text/plain": [
       "<Figure size 432x288 with 1 Axes>"
      ]
     },
     "metadata": {
      "needs_background": "light"
     },
     "output_type": "display_data"
    }
   ],
   "source": [
    "# ploting accuracy for test dataset\n",
    "plot_accuracy(history)"
   ]
  },
  {
   "cell_type": "code",
   "execution_count": null,
   "metadata": {
    "colab": {
     "base_uri": "https://localhost:8080/",
     "height": 295
    },
    "id": "KWjiwDz0ERPG",
    "outputId": "1b9f4778-9efb-49fb-f0e2-40264ebdf829"
   },
   "outputs": [
    {
     "data": {
      "image/png": "[encoded data removed]",
      "text/plain": [
       "<Figure size 432x288 with 1 Axes>"
      ]
     },
     "metadata": {
      "needs_background": "light"
     },
     "output_type": "display_data"
    }
   ],
   "source": [
    "# ploting accuracy for test dataset\n",
    "plot_loss(history)"
   ]
  },
  {
   "cell_type": "code",
   "execution_count": null,
   "metadata": {
    "colab": {
     "base_uri": "https://localhost:8080/"
    },
    "id": "CqlEHM2rbRYs",
    "outputId": "fef36627-d690-4af2-d0d0-256e556c5fa4"
   },
   "outputs": [
    {
     "name": "stdout",
     "output_type": "stream",
     "text": [
      "['loss', 'accuracy']\n",
      "[0.34063664078712463, 0.8981000185012817]\n"
     ]
    }
   ],
   "source": [
    "# display the accuracy and loss score for Test dataset\n",
    "print(cnn.metrics_names)\n",
    "print(cnn.evaluate(X_test, y_test, batch_size=64, verbose=0))"
   ]
  },
  {
   "cell_type": "markdown",
   "metadata": {
    "id": "VgsCMAv0lyD9"
   },
   "source": [
    "###### Accuracy for Test dataset is 89.81% with our above final CNN classification model\n",
    "\n",
    "###### Lets Check the Precision, Recall, F1-score for the final CNN classification model on Test dataset"
   ]
  },
  {
   "cell_type": "code",
   "execution_count": null,
   "metadata": {
    "colab": {
     "base_uri": "https://localhost:8080/"
    },
    "id": "j0YMZvc6LSbl",
    "outputId": "b46ea8d4-28d0-4648-abff-0e202d746449"
   },
   "outputs": [
    {
     "name": "stdout",
     "output_type": "stream",
     "text": [
      "rounded test labels [[0. 0. 0. ... 0. 0. 0.]\n",
      " [0. 0. 0. ... 0. 1. 0.]\n",
      " [0. 0. 0. ... 0. 1. 0.]\n",
      " ...\n",
      " [0. 0. 0. ... 0. 0. 0.]\n",
      " [0. 1. 0. ... 0. 0. 0.]\n",
      " [0. 0. 0. ... 1. 0. 0.]]\n"
     ]
    }
   ],
   "source": [
    "# Check the Predicted label for Test dataset \n",
    "pred_label = np.round(cnn.predict(X_test),0)\n",
    "print(\"rounded test labels\", pred_label)"
   ]
  },
  {
   "cell_type": "code",
   "execution_count": null,
   "metadata": {
    "colab": {
     "base_uri": "https://localhost:8080/"
    },
    "id": "jMh6QmTwj9We",
    "outputId": "24019f34-0669-4f0b-e8b1-b9eb769c8942"
   },
   "outputs": [
    {
     "name": "stdout",
     "output_type": "stream",
     "text": [
      "              precision    recall  f1-score   support\n",
      "\n",
      "    airplane       0.94      0.88      0.91      1000\n",
      "  automobile       0.95      0.96      0.96      1000\n",
      "        bird       0.89      0.88      0.88      1000\n",
      "         cat       0.91      0.70      0.79      1000\n",
      "        deer       0.93      0.86      0.90      1000\n",
      "         dog       0.88      0.82      0.85      1000\n",
      "        frog       0.85      0.96      0.90      1000\n",
      "       horse       0.94      0.93      0.94      1000\n",
      "        ship       0.96      0.91      0.93      1000\n",
      "       truck       0.90      0.96      0.93      1000\n",
      "\n",
      "   micro avg       0.91      0.88      0.90     10000\n",
      "   macro avg       0.92      0.88      0.90     10000\n",
      "weighted avg       0.92      0.88      0.90     10000\n",
      " samples avg       0.88      0.88      0.88     10000\n",
      "\n"
     ]
    }
   ],
   "source": [
    "# Display the Classification report of CNN classification model for Test dataset\n",
    "print(classification_report(y_test, pred_label, target_names = classes))"
   ]
  },
  {
   "cell_type": "markdown",
   "metadata": {
    "id": "RaBdy-wbPjUg"
   },
   "source": [
    "## Conclusion \n",
    "\n",
    "###### 1. Our final CNN model with 3 layers of covolutional and pooling layer with ReLU as activation function along with Dropout, Batch Normalization, Data Augmentation layer and RMSProp as Optimizer with decay of 0.000001 gives the evaluation of `89.81% accuracy` with very low loss score 0.34 on the test dataset. The two plots also indicates that the final model also has no issue of overfitting/underfitting error too.\n",
    "\n",
    "###### 2. F1-score for Artificial class label like airplane, ship etc appears to be high in compare to the F1-score of natural class label like bird, cat, etc. This means CNN model learns faster to recognize the artificial class where it has little difficulty in recognizing natural class.  "
   ]
  },
  {
   "cell_type": "code",
   "execution_count": null,
   "metadata": {},
   "outputs": [],
   "source": []
  },
  {
   "cell_type": "code",
   "execution_count": null,
   "metadata": {},
   "outputs": [],
   "source": []
  }
 ],
 "metadata": {
  "accelerator": "GPU",
  "colab": {
   "collapsed_sections": [],
   "machine_shape": "hm",
   "name": "Final_Project_Convolutional_Neural_Network - Neha Singh.ipynb",
   "provenance": []
  },
  "kernelspec": {
   "display_name": "Python 3",
   "language": "python",
   "name": "python3"
  },
  "language_info": {
   "codemirror_mode": {
    "name": "ipython",
    "version": 3
   },
   "file_extension": ".py",
   "mimetype": "text/x-python",
   "name": "python",
   "nbconvert_exporter": "python",
   "pygments_lexer": "ipython3",
   "version": "3.6.10"
  }
 },
 "nbformat": 4,
 "nbformat_minor": 1
}
